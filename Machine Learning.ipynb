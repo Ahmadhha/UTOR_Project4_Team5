{
 "cells": [
  {
   "cell_type": "markdown",
   "id": "b8a14b30",
   "metadata": {},
   "source": [
    "# Machine Learning\n",
    "\n",
    "\n",
    "# Overview\n",
    "_______________________________________________________________\n",
    "\n",
    "### MACHINE LEARNING ANALYSIS TO BE PERFORMED\n",
    "\n",
    "Diagnosis of breast masses as benign or malignant: Machine learning analysis will be performed on this dataset to build a predictive model that can distinguish between benign and malignant breast masses.\n",
    "\n",
    "5 Supervised learning and 1 unsupervised learning models will be compared to identified that most optimum algorithm for this data set.\n",
    "\n",
    "### Supervised learning algorithms to explore are:\n",
    "\n",
    "1. Logistic Regression\n",
    "\n",
    "2. Decision Tree\n",
    "\n",
    "3. Random Forest\n",
    "\n",
    "4. Support Vector Machine (SVM)\n",
    "\n",
    "5. Neural Network\n",
    "\n",
    "### Unupervised learning algorithms to explore is:\n",
    "\n",
    "6. K-Nearest-Neighbour (KNN)\n",
    "\n",
    "\n",
    "### Diagnosis of breast masses ( benign or malignant)\n",
    "\n",
    "The problem of diagnosing breast cancer as malignant or benign is a binary classification problem, as there are only two possible outcomes. Therefore, we can build a binary classification model using supervised learning algorithms.\n",
    "\n",
    " \n",
    "\n",
    "# Script\n",
    "________________________________________________________________________________\n",
    "\n"
   ]
  },
  {
   "cell_type": "code",
   "execution_count": 1,
   "id": "a50ccfc0",
   "metadata": {},
   "outputs": [],
   "source": [
    "# Import Dependencies\n",
    "\n",
    "import numpy as np\n",
    "import pandas as pd\n",
    "import seaborn as sns\n",
    "import matplotlib.pyplot as plt\n",
    "import plotly.graph_objs as go\n",
    "\n",
    "from sklearn.metrics import confusion_matrix, balanced_accuracy_score, confusion_matrix, classification_report, accuracy_score\n",
    "from sklearn.linear_model import LogisticRegression\n",
    "from sklearn.model_selection import train_test_split, GridSearchCV\n",
    "from sklearn.tree import DecisionTreeClassifier\n",
    "from sklearn.ensemble import RandomForestClassifier\n",
    "from sklearn.preprocessing import StandardScaler\n",
    "from sklearn.svm import SVC\n",
    "from sklearn.neighbors import KNeighborsClassifier\n",
    "\n",
    "from tensorflow.keras.models import Sequential\n",
    "from tensorflow.keras.layers import Dense"
   ]
  },
  {
   "cell_type": "code",
   "execution_count": 2,
   "id": "45d063f1",
   "metadata": {},
   "outputs": [],
   "source": [
    "# Define Functions\n",
    "\n",
    "def evaluate_model(test, pred, model_name):\n",
    "    \n",
    "    # Calculate accuracy score\n",
    "    acc = accuracy_score(test, pred)\n",
    "    print(f\"{model_name} Accuracy: {round(acc*100,2)}%\\n\\n\")\n",
    "\n",
    "    # Generate a confusion matrix\n",
    "    conf_matrix = confusion_matrix(test, pred)\n",
    "    print(f\"{model_name} Confusion Matrix:\\n\\n{conf_matrix}\\n\\n\")\n",
    "\n",
    "    # Generate a classification report\n",
    "    class_rep = classification_report(test, pred, output_dict=True)\n",
    "    recall = class_rep['macro avg']['recall']\n",
    "    f1 = class_rep['macro avg']['f1-score']\n",
    "    prec = class_rep['macro avg']['precision']\n",
    "\n",
    "\n",
    "    print(f\"{model_name} Classification Report:\\n\\n{classification_report(test, pred)}\\n\\n\")\n",
    "\n",
    "    # Plot the confusion matrix as a heatmap\n",
    "    sns.heatmap(conf_matrix, annot=True, cmap='Blues', fmt='g')\n",
    "    plt.xlabel('Predicted label')\n",
    "    plt.ylabel('True label')\n",
    "    plt.title(f\"{model_name} Confusion Matrix\")\n",
    "    plt.show()\n",
    "\n",
    "    return prec, acc, recall, f1\n"
   ]
  },
  {
   "cell_type": "markdown",
   "id": "d8bd7a41",
   "metadata": {},
   "source": [
    "## Data Preparation (Cleaning and Pre-Processing)"
   ]
  },
  {
   "cell_type": "code",
   "execution_count": 3,
   "id": "74d5ec10",
   "metadata": {},
   "outputs": [
    {
     "data": {
      "text/html": [
       "<div>\n",
       "<style scoped>\n",
       "    .dataframe tbody tr th:only-of-type {\n",
       "        vertical-align: middle;\n",
       "    }\n",
       "\n",
       "    .dataframe tbody tr th {\n",
       "        vertical-align: top;\n",
       "    }\n",
       "\n",
       "    .dataframe thead th {\n",
       "        text-align: right;\n",
       "    }\n",
       "</style>\n",
       "<table border=\"1\" class=\"dataframe\">\n",
       "  <thead>\n",
       "    <tr style=\"text-align: right;\">\n",
       "      <th></th>\n",
       "      <th>id</th>\n",
       "      <th>diagnosis</th>\n",
       "      <th>radius_mean</th>\n",
       "      <th>texture_mean</th>\n",
       "      <th>perimeter_mean</th>\n",
       "      <th>area_mean</th>\n",
       "      <th>smoothness_mean</th>\n",
       "      <th>compactness_mean</th>\n",
       "      <th>concavity_mean</th>\n",
       "      <th>concave points_mean</th>\n",
       "      <th>...</th>\n",
       "      <th>radius_worst</th>\n",
       "      <th>texture_worst</th>\n",
       "      <th>perimeter_worst</th>\n",
       "      <th>area_worst</th>\n",
       "      <th>smoothness_worst</th>\n",
       "      <th>compactness_worst</th>\n",
       "      <th>concavity_worst</th>\n",
       "      <th>concave points_worst</th>\n",
       "      <th>symmetry_worst</th>\n",
       "      <th>fractal_dimension_worst</th>\n",
       "    </tr>\n",
       "  </thead>\n",
       "  <tbody>\n",
       "    <tr>\n",
       "      <th>0</th>\n",
       "      <td>842302</td>\n",
       "      <td>M</td>\n",
       "      <td>17.99</td>\n",
       "      <td>10.38</td>\n",
       "      <td>122.80</td>\n",
       "      <td>1001.0</td>\n",
       "      <td>0.11840</td>\n",
       "      <td>0.27760</td>\n",
       "      <td>0.3001</td>\n",
       "      <td>0.14710</td>\n",
       "      <td>...</td>\n",
       "      <td>25.38</td>\n",
       "      <td>17.33</td>\n",
       "      <td>184.60</td>\n",
       "      <td>2019.0</td>\n",
       "      <td>0.1622</td>\n",
       "      <td>0.6656</td>\n",
       "      <td>0.7119</td>\n",
       "      <td>0.2654</td>\n",
       "      <td>0.4601</td>\n",
       "      <td>0.11890</td>\n",
       "    </tr>\n",
       "    <tr>\n",
       "      <th>1</th>\n",
       "      <td>842517</td>\n",
       "      <td>M</td>\n",
       "      <td>20.57</td>\n",
       "      <td>17.77</td>\n",
       "      <td>132.90</td>\n",
       "      <td>1326.0</td>\n",
       "      <td>0.08474</td>\n",
       "      <td>0.07864</td>\n",
       "      <td>0.0869</td>\n",
       "      <td>0.07017</td>\n",
       "      <td>...</td>\n",
       "      <td>24.99</td>\n",
       "      <td>23.41</td>\n",
       "      <td>158.80</td>\n",
       "      <td>1956.0</td>\n",
       "      <td>0.1238</td>\n",
       "      <td>0.1866</td>\n",
       "      <td>0.2416</td>\n",
       "      <td>0.1860</td>\n",
       "      <td>0.2750</td>\n",
       "      <td>0.08902</td>\n",
       "    </tr>\n",
       "    <tr>\n",
       "      <th>2</th>\n",
       "      <td>84300903</td>\n",
       "      <td>M</td>\n",
       "      <td>19.69</td>\n",
       "      <td>21.25</td>\n",
       "      <td>130.00</td>\n",
       "      <td>1203.0</td>\n",
       "      <td>0.10960</td>\n",
       "      <td>0.15990</td>\n",
       "      <td>0.1974</td>\n",
       "      <td>0.12790</td>\n",
       "      <td>...</td>\n",
       "      <td>23.57</td>\n",
       "      <td>25.53</td>\n",
       "      <td>152.50</td>\n",
       "      <td>1709.0</td>\n",
       "      <td>0.1444</td>\n",
       "      <td>0.4245</td>\n",
       "      <td>0.4504</td>\n",
       "      <td>0.2430</td>\n",
       "      <td>0.3613</td>\n",
       "      <td>0.08758</td>\n",
       "    </tr>\n",
       "    <tr>\n",
       "      <th>3</th>\n",
       "      <td>84348301</td>\n",
       "      <td>M</td>\n",
       "      <td>11.42</td>\n",
       "      <td>20.38</td>\n",
       "      <td>77.58</td>\n",
       "      <td>386.1</td>\n",
       "      <td>0.14250</td>\n",
       "      <td>0.28390</td>\n",
       "      <td>0.2414</td>\n",
       "      <td>0.10520</td>\n",
       "      <td>...</td>\n",
       "      <td>14.91</td>\n",
       "      <td>26.50</td>\n",
       "      <td>98.87</td>\n",
       "      <td>567.7</td>\n",
       "      <td>0.2098</td>\n",
       "      <td>0.8663</td>\n",
       "      <td>0.6869</td>\n",
       "      <td>0.2575</td>\n",
       "      <td>0.6638</td>\n",
       "      <td>0.17300</td>\n",
       "    </tr>\n",
       "    <tr>\n",
       "      <th>4</th>\n",
       "      <td>84358402</td>\n",
       "      <td>M</td>\n",
       "      <td>20.29</td>\n",
       "      <td>14.34</td>\n",
       "      <td>135.10</td>\n",
       "      <td>1297.0</td>\n",
       "      <td>0.10030</td>\n",
       "      <td>0.13280</td>\n",
       "      <td>0.1980</td>\n",
       "      <td>0.10430</td>\n",
       "      <td>...</td>\n",
       "      <td>22.54</td>\n",
       "      <td>16.67</td>\n",
       "      <td>152.20</td>\n",
       "      <td>1575.0</td>\n",
       "      <td>0.1374</td>\n",
       "      <td>0.2050</td>\n",
       "      <td>0.4000</td>\n",
       "      <td>0.1625</td>\n",
       "      <td>0.2364</td>\n",
       "      <td>0.07678</td>\n",
       "    </tr>\n",
       "  </tbody>\n",
       "</table>\n",
       "<p>5 rows × 32 columns</p>\n",
       "</div>"
      ],
      "text/plain": [
       "         id diagnosis  radius_mean  texture_mean  perimeter_mean  area_mean  \\\n",
       "0    842302         M        17.99         10.38          122.80     1001.0   \n",
       "1    842517         M        20.57         17.77          132.90     1326.0   \n",
       "2  84300903         M        19.69         21.25          130.00     1203.0   \n",
       "3  84348301         M        11.42         20.38           77.58      386.1   \n",
       "4  84358402         M        20.29         14.34          135.10     1297.0   \n",
       "\n",
       "   smoothness_mean  compactness_mean  concavity_mean  concave points_mean  \\\n",
       "0          0.11840           0.27760          0.3001              0.14710   \n",
       "1          0.08474           0.07864          0.0869              0.07017   \n",
       "2          0.10960           0.15990          0.1974              0.12790   \n",
       "3          0.14250           0.28390          0.2414              0.10520   \n",
       "4          0.10030           0.13280          0.1980              0.10430   \n",
       "\n",
       "   ...  radius_worst  texture_worst  perimeter_worst  area_worst  \\\n",
       "0  ...         25.38          17.33           184.60      2019.0   \n",
       "1  ...         24.99          23.41           158.80      1956.0   \n",
       "2  ...         23.57          25.53           152.50      1709.0   \n",
       "3  ...         14.91          26.50            98.87       567.7   \n",
       "4  ...         22.54          16.67           152.20      1575.0   \n",
       "\n",
       "   smoothness_worst  compactness_worst  concavity_worst  concave points_worst  \\\n",
       "0            0.1622             0.6656           0.7119                0.2654   \n",
       "1            0.1238             0.1866           0.2416                0.1860   \n",
       "2            0.1444             0.4245           0.4504                0.2430   \n",
       "3            0.2098             0.8663           0.6869                0.2575   \n",
       "4            0.1374             0.2050           0.4000                0.1625   \n",
       "\n",
       "   symmetry_worst  fractal_dimension_worst  \n",
       "0          0.4601                  0.11890  \n",
       "1          0.2750                  0.08902  \n",
       "2          0.3613                  0.08758  \n",
       "3          0.6638                  0.17300  \n",
       "4          0.2364                  0.07678  \n",
       "\n",
       "[5 rows x 32 columns]"
      ]
     },
     "execution_count": 3,
     "metadata": {},
     "output_type": "execute_result"
    }
   ],
   "source": [
    "# Read in the CSV file\n",
    "breast_cancer_data = pd.read_csv('Resources/breast_cancer_data.csv', usecols=lambda col: col != 'Unnamed: 32')\n",
    "\n",
    "# Display the first few rows of the DataFrame\n",
    "breast_cancer_data.head()"
   ]
  },
  {
   "cell_type": "code",
   "execution_count": 4,
   "id": "0d7b008a",
   "metadata": {},
   "outputs": [
    {
     "name": "stdout",
     "output_type": "stream",
     "text": [
      "<class 'pandas.core.frame.DataFrame'>\n",
      "RangeIndex: 569 entries, 0 to 568\n",
      "Data columns (total 31 columns):\n",
      " #   Column                   Non-Null Count  Dtype  \n",
      "---  ------                   --------------  -----  \n",
      " 0   diagnosis                569 non-null    object \n",
      " 1   radius_mean              569 non-null    float64\n",
      " 2   texture_mean             569 non-null    float64\n",
      " 3   perimeter_mean           569 non-null    float64\n",
      " 4   area_mean                569 non-null    float64\n",
      " 5   smoothness_mean          569 non-null    float64\n",
      " 6   compactness_mean         569 non-null    float64\n",
      " 7   concavity_mean           569 non-null    float64\n",
      " 8   concave points_mean      569 non-null    float64\n",
      " 9   symmetry_mean            569 non-null    float64\n",
      " 10  fractal_dimension_mean   569 non-null    float64\n",
      " 11  radius_se                569 non-null    float64\n",
      " 12  texture_se               569 non-null    float64\n",
      " 13  perimeter_se             569 non-null    float64\n",
      " 14  area_se                  569 non-null    float64\n",
      " 15  smoothness_se            569 non-null    float64\n",
      " 16  compactness_se           569 non-null    float64\n",
      " 17  concavity_se             569 non-null    float64\n",
      " 18  concave points_se        569 non-null    float64\n",
      " 19  symmetry_se              569 non-null    float64\n",
      " 20  fractal_dimension_se     569 non-null    float64\n",
      " 21  radius_worst             569 non-null    float64\n",
      " 22  texture_worst            569 non-null    float64\n",
      " 23  perimeter_worst          569 non-null    float64\n",
      " 24  area_worst               569 non-null    float64\n",
      " 25  smoothness_worst         569 non-null    float64\n",
      " 26  compactness_worst        569 non-null    float64\n",
      " 27  concavity_worst          569 non-null    float64\n",
      " 28  concave points_worst     569 non-null    float64\n",
      " 29  symmetry_worst           569 non-null    float64\n",
      " 30  fractal_dimension_worst  569 non-null    float64\n",
      "dtypes: float64(30), object(1)\n",
      "memory usage: 137.9+ KB\n"
     ]
    }
   ],
   "source": [
    "# Drop the non-beneficial ID columns, 'id'\n",
    "breast_cancer_data = breast_cancer_data.drop(columns = ['id'])\n",
    "\n",
    "# Print the data types of each column\n",
    "breast_cancer_data.info()"
   ]
  },
  {
   "cell_type": "code",
   "execution_count": 5,
   "id": "907d56b4",
   "metadata": {
    "scrolled": false
   },
   "outputs": [
    {
     "name": "stdout",
     "output_type": "stream",
     "text": [
      "diagnosis                    2\n",
      "radius_mean                456\n",
      "texture_mean               479\n",
      "perimeter_mean             522\n",
      "area_mean                  539\n",
      "smoothness_mean            474\n",
      "compactness_mean           537\n",
      "concavity_mean             537\n",
      "concave points_mean        542\n",
      "symmetry_mean              432\n",
      "fractal_dimension_mean     499\n",
      "radius_se                  540\n",
      "texture_se                 519\n",
      "perimeter_se               533\n",
      "area_se                    528\n",
      "smoothness_se              547\n",
      "compactness_se             541\n",
      "concavity_se               533\n",
      "concave points_se          507\n",
      "symmetry_se                498\n",
      "fractal_dimension_se       545\n",
      "radius_worst               457\n",
      "texture_worst              511\n",
      "perimeter_worst            514\n",
      "area_worst                 544\n",
      "smoothness_worst           411\n",
      "compactness_worst          529\n",
      "concavity_worst            539\n",
      "concave points_worst       492\n",
      "symmetry_worst             500\n",
      "fractal_dimension_worst    535\n",
      "dtype: int64\n"
     ]
    }
   ],
   "source": [
    "# Determine the number of unique values in each column.\n",
    "unique_value_counts = breast_cancer_data.nunique()\n",
    "print(unique_value_counts)"
   ]
  },
  {
   "cell_type": "code",
   "execution_count": 6,
   "id": "384b6911",
   "metadata": {},
   "outputs": [
    {
     "data": {
      "text/plain": [
       "B    357\n",
       "M    212\n",
       "Name: diagnosis, dtype: int64"
      ]
     },
     "execution_count": 6,
     "metadata": {},
     "output_type": "execute_result"
    }
   ],
   "source": [
    "# Check the Target Class frequency\n",
    "breast_cancer_data['diagnosis'].value_counts()"
   ]
  },
  {
   "cell_type": "code",
   "execution_count": 7,
   "id": "2dd69607",
   "metadata": {},
   "outputs": [],
   "source": [
    "# Drop the 'id' column and set the diagnosis column as the target variable\n",
    "X = breast_cancer_data.drop(columns=['diagnosis'])\n",
    "y = breast_cancer_data['diagnosis'].map({'M': 1, 'B': 0})\n",
    "\n",
    "# Split the data into training and testing sets\n",
    "X_train, X_test, y_train, y_test = train_test_split(X, y, test_size=0.2, random_state=42)\n"
   ]
  },
  {
   "cell_type": "markdown",
   "id": "68991b83",
   "metadata": {},
   "source": [
    "## Model 1: Logistic Regression"
   ]
  },
  {
   "cell_type": "code",
   "execution_count": 8,
   "id": "ad0d6c14",
   "metadata": {},
   "outputs": [
    {
     "data": {
      "text/plain": [
       "LogisticRegression(max_iter=5000)"
      ]
     },
     "execution_count": 8,
     "metadata": {},
     "output_type": "execute_result"
    }
   ],
   "source": [
    "# Create a Logistic Regression model with a higher maximum number of iterations\n",
    "logreg = LogisticRegression(max_iter=5000)\n",
    "\n",
    "# Fit the model to the breast cancer data\n",
    "logreg.fit(X_train, y_train)\n"
   ]
  },
  {
   "cell_type": "code",
   "execution_count": 9,
   "id": "6f7be0f7",
   "metadata": {},
   "outputs": [
    {
     "name": "stdout",
     "output_type": "stream",
     "text": [
      "Logistic Regression Accuracy: 95.61%\n",
      "\n",
      "\n",
      "Logistic Regression Confusion Matrix:\n",
      "\n",
      "[[70  1]\n",
      " [ 4 39]]\n",
      "\n",
      "\n",
      "Logistic Regression Classification Report:\n",
      "\n",
      "              precision    recall  f1-score   support\n",
      "\n",
      "           0       0.95      0.99      0.97        71\n",
      "           1       0.97      0.91      0.94        43\n",
      "\n",
      "    accuracy                           0.96       114\n",
      "   macro avg       0.96      0.95      0.95       114\n",
      "weighted avg       0.96      0.96      0.96       114\n",
      "\n",
      "\n",
      "\n"
     ]
    },
    {
     "data": {
      "image/png": "[encoded data removed]",
      "text/plain": [
       "<Figure size 432x288 with 2 Axes>"
      ]
     },
     "metadata": {
      "needs_background": "light"
     },
     "output_type": "display_data"
    }
   ],
   "source": [
    "# Predict on test set and calculate accuracy\n",
    "y_pred_log = logreg.predict(X_test)\n",
    "\n",
    "# Evaluate the Model\n",
    "linreg_prec, linreg_accuracy, linreg_recall, linreg_f1 = evaluate_model(y_test, y_pred_log, \"Logistic Regression\")\n"
   ]
  },
  {
   "cell_type": "markdown",
   "id": "ec0b2090",
   "metadata": {},
   "source": [
    "True Negatives: 70\n",
    "    \n",
    "False Positives: 1\n",
    "    \n",
    "False Negatives: 4\n",
    "    \n",
    "True Positives: 39"
   ]
  },
  {
   "cell_type": "markdown",
   "id": "22aed5ed",
   "metadata": {},
   "source": [
    "The accuracy of the model is 95.61%, which means that the model correctly predicted the class label for 95.61% of the instances in the dataset.\n",
    "\n",
    "The model predicted 70 instances as true negatives (TN), 1 instance as false positive (FP), 4 instances as false negatives (FN), and 39 instances as true positives (TP).\n",
    "\n",
    "The precision of the model for class 0(B) is 0.95, which means that out of all the instances predicted as class 0, 95% were actually class 0. The recall for class 0(B) is 0.99, which means that out of all the instances that are actually class 0(B), the model correctly identified 99% of them. The F1-score for class 0(B) is 0.97.\n",
    "\n",
    "Similarly, the precision for class 1(M) is 0.97, which means that out of all the instances predicted as class 1(M), 97% were actually class 1. The recall for class 1 is 0.91, which means that out of all the instances that are actually class 1(M), the model correctly identified 91% of them. The F1-score for class 1(M) is 0.94.\n",
    "\n",
    "The macro average of precision, recall, and F1-score is calculated as the average of these metrics across the two classes, which gives 0.96, 0.95, and 0.95 respectively. The weighted average of these metrics is calculated as the average of these metrics weighted by the number of instances in each class, which gives 0.96, 0.96, and 0.96 respectively.\n",
    "\n",
    "The logistic regression model performed well on this binary classification task with high accuracy and reasonably high precision, recall, and F1-score for both classes."
   ]
  },
  {
   "cell_type": "markdown",
   "id": "cf0199d8",
   "metadata": {},
   "source": [
    "## Model 2: Decision Tree"
   ]
  },
  {
   "cell_type": "code",
   "execution_count": 10,
   "id": "6065e321",
   "metadata": {},
   "outputs": [
    {
     "data": {
      "text/plain": [
       "DecisionTreeClassifier()"
      ]
     },
     "execution_count": 10,
     "metadata": {},
     "output_type": "execute_result"
    }
   ],
   "source": [
    "# Initialize and fit decision tree model\n",
    "dt = DecisionTreeClassifier()\n",
    "dt.fit(X_train, y_train)"
   ]
  },
  {
   "cell_type": "code",
   "execution_count": 11,
   "id": "51c9dec6",
   "metadata": {},
   "outputs": [
    {
     "name": "stdout",
     "output_type": "stream",
     "text": [
      "Decision Tree Accuracy: 92.98%\n",
      "\n",
      "\n",
      "Decision Tree Confusion Matrix:\n",
      "\n",
      "[[67  4]\n",
      " [ 4 39]]\n",
      "\n",
      "\n",
      "Decision Tree Classification Report:\n",
      "\n",
      "              precision    recall  f1-score   support\n",
      "\n",
      "           0       0.94      0.94      0.94        71\n",
      "           1       0.91      0.91      0.91        43\n",
      "\n",
      "    accuracy                           0.93       114\n",
      "   macro avg       0.93      0.93      0.93       114\n",
      "weighted avg       0.93      0.93      0.93       114\n",
      "\n",
      "\n",
      "\n"
     ]
    },
    {
     "data": {
      "image/png": "[encoded data removed]",
      "text/plain": [
       "<Figure size 432x288 with 2 Axes>"
      ]
     },
     "metadata": {
      "needs_background": "light"
     },
     "output_type": "display_data"
    }
   ],
   "source": [
    "# Predict on test set and calculate accuracy\n",
    "y_pred_dt = dt.predict(X_test)\n",
    "\n",
    "# Evaluate the Model\n",
    "dt_prec, dt_accuracy, dt_recall, dt_f1 = evaluate_model(y_test, y_pred_dt, \"Decision Tree\")\n"
   ]
  },
  {
   "cell_type": "markdown",
   "id": "ca21d0c7",
   "metadata": {},
   "source": [
    "True Negatives: 67\n",
    "    \n",
    "False Positives: 4\n",
    "    \n",
    "False Negatives: 4\n",
    "    \n",
    "True Positives: 39"
   ]
  },
  {
   "cell_type": "markdown",
   "id": "f5376f2b",
   "metadata": {},
   "source": [
    "The accuracy of the model is 92.98%, which means that the model correctly predicted the class label for 93.86% of the instances in the dataset.\n",
    "\n",
    "The model predicted 67 instances as true negatives (TN), 4 instances as false positive (FP), 3 instances as false negatives (FN), and 40 instances as true positives (TP).\n",
    "\n",
    "The precision of the model for class 0(B) is 0.94, which means that out of all the instances predicted as class 0(B), 94% were actually class 0(B). The recall for class 0 is 0.94, which means that out of all the instances that are actually class 0(B), the model correctly identified 94% of them. The F1-score for class 0(B) is 0.95.\n",
    "\n",
    "The precision for class 1(M) is 0.91, which means that out of all the instances predicted as class 1(M), 91% were actually class 1(M). The recall for class 1(M) is 0.91, which means that out of all the instances that are actually class 1(M), the model correctly identified 91% of them. The F1-score for class 1(M) is 0.92.\n",
    "\n",
    "The macro average of precision, recall, and F1-score is calculated as the average of these metrics across the two classes, which gives 0.93, 0.93, and 0.93 respectively. The weighted average of these metrics is calculated as the average of these metrics weighted by the number of instances in each class, which gives 0.93, 0.93, and 0.93 respectively.\n",
    "\n",
    "The decision tree model performed well on this binary classification task with high accuracy and reasonably high precision, recall, and F1-score for both classes. However, the performance is slightly lower than the logistic regression model mentioned earlier."
   ]
  },
  {
   "cell_type": "markdown",
   "id": "b13960da",
   "metadata": {},
   "source": [
    "## Model 3: Random Forest"
   ]
  },
  {
   "cell_type": "code",
   "execution_count": 12,
   "id": "13a3c765",
   "metadata": {},
   "outputs": [
    {
     "data": {
      "text/plain": [
       "RandomForestClassifier()"
      ]
     },
     "execution_count": 12,
     "metadata": {},
     "output_type": "execute_result"
    }
   ],
   "source": [
    "# Initialize and fit random forest model\n",
    "rf = RandomForestClassifier()\n",
    "rf.fit(X_train, y_train)"
   ]
  },
  {
   "cell_type": "code",
   "execution_count": 13,
   "id": "403ff78e",
   "metadata": {},
   "outputs": [
    {
     "name": "stdout",
     "output_type": "stream",
     "text": [
      "Random Forest Accuracy: 96.49%\n",
      "\n",
      "\n",
      "Random Forest Confusion Matrix:\n",
      "\n",
      "[[70  1]\n",
      " [ 3 40]]\n",
      "\n",
      "\n",
      "Random Forest Classification Report:\n",
      "\n",
      "              precision    recall  f1-score   support\n",
      "\n",
      "           0       0.96      0.99      0.97        71\n",
      "           1       0.98      0.93      0.95        43\n",
      "\n",
      "    accuracy                           0.96       114\n",
      "   macro avg       0.97      0.96      0.96       114\n",
      "weighted avg       0.97      0.96      0.96       114\n",
      "\n",
      "\n",
      "\n"
     ]
    },
    {
     "data": {
      "image/png": "[encoded data removed]",
      "text/plain": [
       "<Figure size 432x288 with 2 Axes>"
      ]
     },
     "metadata": {
      "needs_background": "light"
     },
     "output_type": "display_data"
    }
   ],
   "source": [
    "# Predict on test set and calculate accuracy\n",
    "y_pred_rf = rf.predict(X_test)\n",
    "\n",
    "# Evaluate the model\n",
    "rf_prec, rf_accuracy, rf_recall, rf_f1 = evaluate_model(y_test, y_pred_rf, \"Random Forest\")\n"
   ]
  },
  {
   "cell_type": "markdown",
   "id": "533f7cc2",
   "metadata": {},
   "source": [
    "True Negatives: 70\n",
    "\n",
    "False Positives: 1\n",
    "\n",
    "False Negatives: 3\n",
    "\n",
    "True Positives: 40"
   ]
  },
  {
   "cell_type": "markdown",
   "id": "599447d0",
   "metadata": {},
   "source": [
    "The accuracy of the model is 96.49%, which means that the model correctly predicted the class label for 96.49% of the instances in the dataset.\n",
    "\n",
    "The model predicted 70 instances as true negatives (TN), 1 instance as false positive (FP), 3 instances as false negatives (FN), and 40 instances as true positives (TP).\n",
    "\n",
    "The precision of the model for class 0(B) is 0.96, which means that out of all the instances predicted as class 0(B), 96% were actually class 0(B). The recall for class 0(B) is 0.99, which means that out of all the instances that are actually class 0(B), the model correctly identified 99% of them. The F1-score for class 0(B) is 0.97.\n",
    "\n",
    "The precision for class 1(M) is 0.98, which means that out of all the instances predicted as class 1(M), 98% were actually class 1(M). The recall for class 1(M) is 0.93, which means that out of all the instances that are actually class 1(M), the model correctly identified 93% of them. The F1-score for class 1(M) is 0.95.\n",
    "\n",
    "The macro average of precision, recall, and F1-score is calculated as the average of these metrics across the two classes, which gives 0.97, 0.96, and 0.96 respectively. The weighted average of these metrics is calculated as the average of these metrics weighted by the number of instances in each class, which gives 0.97, 0.96, and 0.96 respectively.\n",
    "\n",
    "The Random Forest model appears to perform very well on this binary classification task with high accuracy and high precision, recall, and F1-score for both classes. The performance is slightly better than the other two models mentioned earlier."
   ]
  },
  {
   "cell_type": "code",
   "execution_count": 14,
   "id": "2ff8abf7",
   "metadata": {},
   "outputs": [
    {
     "data": {
      "image/png": "[encoded data removed]",
      "text/plain": [
       "<Figure size 720x576 with 1 Axes>"
      ]
     },
     "metadata": {
      "needs_background": "light"
     },
     "output_type": "display_data"
    }
   ],
   "source": [
    "# Get feature importances and create dataframe\n",
    "importances = rf.feature_importances_\n",
    "features = X_train.columns\n",
    "importances_df = pd.DataFrame({'Feature': features, 'Importance': importances})\n",
    "\n",
    "# Create horizontal bar chart using Seaborn\n",
    "plt.figure(figsize=(10, 8))\n",
    "sns.set_style('whitegrid')\n",
    "sns.barplot(x='Importance', y='Feature', data=importances_df.sort_values('Importance', ascending=False))\n",
    "plt.title('Random Forest Feature Importances')\n",
    "plt.show()"
   ]
  },
  {
   "cell_type": "markdown",
   "id": "3f471126",
   "metadata": {},
   "source": [
    "The feature importances represent the relative importance of each feature in the random forest model. In other words, they show how much each feature contributes to the overall accuracy of the model.\n",
    "\n",
    "A feature with a high importance score means that it is more important in predicting the target variable, while a feature with a low importance score means that it has less impact on the prediction.\n",
    "\n",
    "It is important to note that feature importance scores are relative to the other features in the dataset, and that the absolute values of the scores do not necessarily indicate the predictive power of a feature. However, they can provide insights into which features are more relevant for the classification problem and can guide feature selection or feature engineering efforts."
   ]
  },
  {
   "cell_type": "markdown",
   "id": "c7086c74",
   "metadata": {},
   "source": [
    "## Model 4: Support Vector Machine (SVM)"
   ]
  },
  {
   "cell_type": "code",
   "execution_count": 15,
   "id": "832808f4",
   "metadata": {},
   "outputs": [
    {
     "data": {
      "text/plain": [
       "SVC(kernel='linear')"
      ]
     },
     "execution_count": 15,
     "metadata": {},
     "output_type": "execute_result"
    }
   ],
   "source": [
    "# Initialize and fit SVM model\n",
    "svm = SVC(kernel='linear')\n",
    "svm.fit(X_train, y_train)\n"
   ]
  },
  {
   "cell_type": "code",
   "execution_count": 16,
   "id": "5d4dfd34",
   "metadata": {},
   "outputs": [
    {
     "name": "stdout",
     "output_type": "stream",
     "text": [
      "SVM Accuracy: 95.61%\n",
      "\n",
      "\n",
      "SVM Confusion Matrix:\n",
      "\n",
      "[[70  1]\n",
      " [ 4 39]]\n",
      "\n",
      "\n",
      "SVM Classification Report:\n",
      "\n",
      "              precision    recall  f1-score   support\n",
      "\n",
      "           0       0.95      0.99      0.97        71\n",
      "           1       0.97      0.91      0.94        43\n",
      "\n",
      "    accuracy                           0.96       114\n",
      "   macro avg       0.96      0.95      0.95       114\n",
      "weighted avg       0.96      0.96      0.96       114\n",
      "\n",
      "\n",
      "\n"
     ]
    },
    {
     "data": {
      "image/png": "[encoded data removed]",
      "text/plain": [
       "<Figure size 432x288 with 2 Axes>"
      ]
     },
     "metadata": {},
     "output_type": "display_data"
    }
   ],
   "source": [
    "# Predict on test set and calculate accuracy\n",
    "y_pred_svm = svm.predict(X_test)\n",
    "\n",
    "# Evaluate the model\n",
    "svm_prec, svm_accuracy, svm_recall, svm_f1 = evaluate_model(y_test, y_pred_svm, \"SVM\")\n"
   ]
  },
  {
   "cell_type": "markdown",
   "id": "9b674bb0",
   "metadata": {},
   "source": [
    "True Negatives: 70\n",
    "    \n",
    "False Positives: 1\n",
    "    \n",
    "False Negatives: 4\n",
    "    \n",
    "True Positives: 39\n",
    "\n",
    "The accuracy of the model is 95.61%, which means that the model correctly predicted the class label for 95.61% of the instances in the dataset.\n",
    "\n",
    "The model predicted 70 instances as true negatives (TN), 1 instance as false positive (FP), 4 instances as false negatives (FN), and 39 instances as true positives (TP).\n",
    "\n",
    "The precision of the model for class 0(B) is 0.95, which means that out of all the instances predicted as class 0(B), 95% were actually class 0(B). The recall for class 0(B) is 0.99, which means that out of all the instances that are actually class 0(B), the model correctly identified 99% of them. The F1-score for class 0(B) is 0.97.\n",
    "\n",
    "The precision for class 1(M) is 0.97, which means that out of all the instances predicted as class 1(M), 97% were actually class 1(M). The recall for class 1(M) is 0.91, which means that out of all the instances that are actually class 1(M), the model correctly identified 91% of them. The F1-score for class 1(M) is 0.94.\n",
    "\n",
    "The macro average of precision, recall, and F1-score is calculated as the average of these metrics across the two classes, which gives 0.96, 0.95, and 0.95 respectively. The weighted average of these metrics is calculated as the average of these metrics weighted by the number of instances in each class, which gives 0.96, 0.96, and 0.96 respectively.\n",
    "\n",
    "The SVM model appears to perform very well on this binary classification task with high accuracy and high precision, recall, and F1-score for both classes. The performance is similar to that of the Logistic Regression model."
   ]
  },
  {
   "cell_type": "markdown",
   "id": "e4a40be8",
   "metadata": {},
   "source": [
    "## Model 5: Neural Networks"
   ]
  },
  {
   "cell_type": "code",
   "execution_count": 17,
   "id": "c5195791",
   "metadata": {
    "scrolled": false
   },
   "outputs": [
    {
     "name": "stdout",
     "output_type": "stream",
     "text": [
      "Epoch 1/10\n",
      "29/29 [==============================] - 1s 19ms/step - loss: 0.9178 - accuracy: 0.5648 - val_loss: 0.6409 - val_accuracy: 0.7018\n",
      "Epoch 2/10\n",
      "29/29 [==============================] - 0s 4ms/step - loss: 0.6486 - accuracy: 0.7011 - val_loss: 0.6452 - val_accuracy: 0.7105\n",
      "Epoch 3/10\n",
      "29/29 [==============================] - 0s 4ms/step - loss: 0.6459 - accuracy: 0.7033 - val_loss: 0.6317 - val_accuracy: 0.7018\n",
      "Epoch 4/10\n",
      "29/29 [==============================] - 0s 4ms/step - loss: 0.6385 - accuracy: 0.7121 - val_loss: 0.6285 - val_accuracy: 0.7281\n",
      "Epoch 5/10\n",
      "29/29 [==============================] - 0s 4ms/step - loss: 0.6327 - accuracy: 0.6967 - val_loss: 0.6155 - val_accuracy: 0.7281\n",
      "Epoch 6/10\n",
      "29/29 [==============================] - 0s 4ms/step - loss: 0.6247 - accuracy: 0.7209 - val_loss: 0.6086 - val_accuracy: 0.7105\n",
      "Epoch 7/10\n",
      "29/29 [==============================] - 0s 4ms/step - loss: 0.6163 - accuracy: 0.7143 - val_loss: 0.6008 - val_accuracy: 0.7281\n",
      "Epoch 8/10\n",
      "29/29 [==============================] - 0s 4ms/step - loss: 0.6090 - accuracy: 0.7385 - val_loss: 0.5921 - val_accuracy: 0.7368\n",
      "Epoch 9/10\n",
      "29/29 [==============================] - 0s 4ms/step - loss: 0.6005 - accuracy: 0.7385 - val_loss: 0.5820 - val_accuracy: 0.7456\n",
      "Epoch 10/10\n",
      "29/29 [==============================] - 0s 4ms/step - loss: 0.5902 - accuracy: 0.7473 - val_loss: 0.5737 - val_accuracy: 0.7456\n",
      "4/4 [==============================] - 0s 3ms/step - loss: 0.5737 - accuracy: 0.7456\n",
      "\n",
      "\n",
      "Test loss: 0.5737\n",
      "Test accuracy: 74.56%\n",
      "\n",
      "\n"
     ]
    }
   ],
   "source": [
    "# Define the model\n",
    "model = Sequential()\n",
    "model.add(Dense(4, input_dim=X_train.shape[1], activation='relu'))\n",
    "model.add(Dense(2, activation='relu'))\n",
    "model.add(Dense(1, activation='sigmoid'))\n",
    "\n",
    "# Compile the model\n",
    "model.compile(loss='binary_crossentropy', optimizer='adam', metrics=['accuracy'])\n",
    "\n",
    "# Train the model\n",
    "model.fit(X_train, y_train, epochs=10, batch_size=16, validation_data=(X_test, y_test))\n",
    "\n",
    "# Evaluate the model on the test set\n",
    "loss, nn_acc = model.evaluate(X_test, y_test)\n",
    "print(f'\\n\\nTest loss: {loss:.4f}\\nTest accuracy: {nn_acc*100:.2f}%\\n\\n')"
   ]
  },
  {
   "cell_type": "code",
   "execution_count": 18,
   "id": "1c36dbec",
   "metadata": {
    "scrolled": true
   },
   "outputs": [
    {
     "name": "stdout",
     "output_type": "stream",
     "text": [
      "4/4 [==============================] - 0s 2ms/step\n",
      "Neural Network Accuracy: 74.56%\n",
      "\n",
      "\n",
      "Neural Network Confusion Matrix:\n",
      "\n",
      "[[57 14]\n",
      " [15 28]]\n",
      "\n",
      "\n",
      "Neural Network Classification Report:\n",
      "\n",
      "              precision    recall  f1-score   support\n",
      "\n",
      "           0       0.79      0.80      0.80        71\n",
      "           1       0.67      0.65      0.66        43\n",
      "\n",
      "    accuracy                           0.75       114\n",
      "   macro avg       0.73      0.73      0.73       114\n",
      "weighted avg       0.74      0.75      0.75       114\n",
      "\n",
      "\n",
      "\n"
     ]
    },
    {
     "data": {
      "image/png": "[encoded data removed]",
      "text/plain": [
       "<Figure size 432x288 with 2 Axes>"
      ]
     },
     "metadata": {},
     "output_type": "display_data"
    }
   ],
   "source": [
    "# Predict on test set and calculate accuracy\n",
    "y_pred_proba = model.predict(X_test)\n",
    "y_pred_nn = np.round(y_pred_proba).astype(int)\n",
    "\n",
    "\n",
    "# Evaluate the Model\n",
    "\n",
    "nn_prec, nn_accuracy, nn_recall, nn_f1 = evaluate_model(y_test, y_pred_nn, \"Neural Network\")\n"
   ]
  },
  {
   "cell_type": "markdown",
   "id": "a1e2bdd5",
   "metadata": {},
   "source": [
    "True Negatives: 53\n",
    "\n",
    "False Positives: 18\n",
    "\n",
    "False Negatives: 4\n",
    "\n",
    "True Positives: 39\n",
    "\n",
    "\n",
    "The accuracy of the model is 80.7%, which means that the model has correctly classified 80.7% of the instances without optimization done( e.i: scaling the Dataset, adding an additional layer,increasing the number of nodes, increasing the number of epochs).\n",
    "\n",
    "The confusion matrix shows that the model has made 53 true negative predictions (instances of class 0 correctly classified as class 0), 18 false positive predictions (instances of class 1 incorrectly classified as class 0), 4 false negative predictions (instances of class 0 incorrectly classified as class 1), and 39 true positive predictions (instances of class 1 correctly classified as class 1).\n",
    "\n",
    "The precision of the model for class 0(B) is 0.93, which means that out of all the instances classified as class 0(B), 93% are actually of class 0(B). The recall of the model for class 0(B) is 0.75, which means that out of all the instances of class 0(B), 75% have been correctly classified by the model. The f1-score of the model for class 0(B) is 0.83, which is the harmonic mean of precision and recall. The support for class 0(B) is 71, which means that there are 71 instances of class 0(B) in the dataset.\n",
    "\n",
    "The precision, recall, f1-score, and support for class 1(M) are 0.68, 0.91, 0.78, and 43, respectively. The weighted average of precision, recall, and f1-score is also provided, which takes into account the number of instances of each class.\n",
    "\n",
    "\n",
    "The Neural Network model appears to perform lower than the rest of the supervised algorithms performed earlier on this binary classification task with relatively fair percentages of accuracy and precision, recall, and F1-score for both classes.\n"
   ]
  },
  {
   "cell_type": "markdown",
   "id": "d404d7f0",
   "metadata": {},
   "source": [
    "## Model 5.1: Optimized Neural Network\n",
    "\n",
    "Neural Network Optimization:\n",
    "\n",
    "1. Scaling the Dataset\n",
    "2. Adding an additional layer\n",
    "3. Increasing the number of nodes in the first two layers\n",
    "4. Increasing the number of Epochs"
   ]
  },
  {
   "cell_type": "code",
   "execution_count": 19,
   "id": "b922b37d",
   "metadata": {},
   "outputs": [
    {
     "name": "stdout",
     "output_type": "stream",
     "text": [
      "Epoch 1/50\n",
      "29/29 [==============================] - 1s 13ms/step - loss: 0.6252 - accuracy: 0.7648 - val_loss: 0.5353 - val_accuracy: 0.9474\n",
      "Epoch 2/50\n",
      "29/29 [==============================] - 0s 4ms/step - loss: 0.4652 - accuracy: 0.9341 - val_loss: 0.3798 - val_accuracy: 0.9561\n",
      "Epoch 3/50\n",
      "29/29 [==============================] - 0s 4ms/step - loss: 0.3184 - accuracy: 0.9473 - val_loss: 0.2509 - val_accuracy: 0.9561\n",
      "Epoch 4/50\n",
      "29/29 [==============================] - 0s 5ms/step - loss: 0.2095 - accuracy: 0.9560 - val_loss: 0.1694 - val_accuracy: 0.9649\n",
      "Epoch 5/50\n",
      "29/29 [==============================] - 0s 4ms/step - loss: 0.1508 - accuracy: 0.9560 - val_loss: 0.1267 - val_accuracy: 0.9649\n",
      "Epoch 6/50\n",
      "29/29 [==============================] - 0s 5ms/step - loss: 0.1177 - accuracy: 0.9670 - val_loss: 0.1032 - val_accuracy: 0.9649\n",
      "Epoch 7/50\n",
      "29/29 [==============================] - 0s 5ms/step - loss: 0.0990 - accuracy: 0.9780 - val_loss: 0.0888 - val_accuracy: 0.9737\n",
      "Epoch 8/50\n",
      "29/29 [==============================] - 0s 4ms/step - loss: 0.0855 - accuracy: 0.9846 - val_loss: 0.0799 - val_accuracy: 0.9737\n",
      "Epoch 9/50\n",
      "29/29 [==============================] - 0s 5ms/step - loss: 0.0758 - accuracy: 0.9824 - val_loss: 0.0763 - val_accuracy: 0.9737\n",
      "Epoch 10/50\n",
      "29/29 [==============================] - 0s 4ms/step - loss: 0.0695 - accuracy: 0.9824 - val_loss: 0.0723 - val_accuracy: 0.9737\n",
      "Epoch 11/50\n",
      "29/29 [==============================] - 0s 4ms/step - loss: 0.0640 - accuracy: 0.9824 - val_loss: 0.0703 - val_accuracy: 0.9649\n",
      "Epoch 12/50\n",
      "29/29 [==============================] - 0s 4ms/step - loss: 0.0605 - accuracy: 0.9846 - val_loss: 0.0696 - val_accuracy: 0.9649\n",
      "Epoch 13/50\n",
      "29/29 [==============================] - 0s 4ms/step - loss: 0.0573 - accuracy: 0.9846 - val_loss: 0.0679 - val_accuracy: 0.9649\n",
      "Epoch 14/50\n",
      "29/29 [==============================] - 0s 4ms/step - loss: 0.0542 - accuracy: 0.9846 - val_loss: 0.0671 - val_accuracy: 0.9649\n",
      "Epoch 15/50\n",
      "29/29 [==============================] - 0s 4ms/step - loss: 0.0516 - accuracy: 0.9890 - val_loss: 0.0677 - val_accuracy: 0.9649\n",
      "Epoch 16/50\n",
      "29/29 [==============================] - 0s 4ms/step - loss: 0.0488 - accuracy: 0.9890 - val_loss: 0.0675 - val_accuracy: 0.9737\n",
      "Epoch 17/50\n",
      "29/29 [==============================] - 0s 4ms/step - loss: 0.0465 - accuracy: 0.9890 - val_loss: 0.0673 - val_accuracy: 0.9737\n",
      "Epoch 18/50\n",
      "29/29 [==============================] - 0s 4ms/step - loss: 0.0449 - accuracy: 0.9890 - val_loss: 0.0664 - val_accuracy: 0.9737\n",
      "Epoch 19/50\n",
      "29/29 [==============================] - 0s 4ms/step - loss: 0.0427 - accuracy: 0.9890 - val_loss: 0.0674 - val_accuracy: 0.9737\n",
      "Epoch 20/50\n",
      "29/29 [==============================] - 0s 4ms/step - loss: 0.0409 - accuracy: 0.9912 - val_loss: 0.0658 - val_accuracy: 0.9825\n",
      "Epoch 21/50\n",
      "29/29 [==============================] - 0s 4ms/step - loss: 0.0391 - accuracy: 0.9934 - val_loss: 0.0654 - val_accuracy: 0.9825\n",
      "Epoch 22/50\n",
      "29/29 [==============================] - 0s 5ms/step - loss: 0.0376 - accuracy: 0.9934 - val_loss: 0.0659 - val_accuracy: 0.9825\n",
      "Epoch 23/50\n",
      "29/29 [==============================] - 0s 5ms/step - loss: 0.0359 - accuracy: 0.9934 - val_loss: 0.0658 - val_accuracy: 0.9825\n",
      "Epoch 24/50\n",
      "29/29 [==============================] - 0s 4ms/step - loss: 0.0347 - accuracy: 0.9934 - val_loss: 0.0645 - val_accuracy: 0.9825\n",
      "Epoch 25/50\n",
      "29/29 [==============================] - 0s 5ms/step - loss: 0.0334 - accuracy: 0.9934 - val_loss: 0.0642 - val_accuracy: 0.9825\n",
      "Epoch 26/50\n",
      "29/29 [==============================] - 0s 4ms/step - loss: 0.0320 - accuracy: 0.9934 - val_loss: 0.0657 - val_accuracy: 0.9825\n",
      "Epoch 27/50\n",
      "29/29 [==============================] - 0s 4ms/step - loss: 0.0308 - accuracy: 0.9934 - val_loss: 0.0659 - val_accuracy: 0.9825\n",
      "Epoch 28/50\n",
      "29/29 [==============================] - 0s 4ms/step - loss: 0.0298 - accuracy: 0.9934 - val_loss: 0.0651 - val_accuracy: 0.9825\n",
      "Epoch 29/50\n",
      "29/29 [==============================] - 0s 4ms/step - loss: 0.0288 - accuracy: 0.9934 - val_loss: 0.0662 - val_accuracy: 0.9825\n",
      "Epoch 30/50\n",
      "29/29 [==============================] - 0s 4ms/step - loss: 0.0278 - accuracy: 0.9934 - val_loss: 0.0668 - val_accuracy: 0.9825\n",
      "Epoch 31/50\n",
      "29/29 [==============================] - 0s 4ms/step - loss: 0.0269 - accuracy: 0.9934 - val_loss: 0.0671 - val_accuracy: 0.9825\n",
      "Epoch 32/50\n",
      "29/29 [==============================] - 0s 5ms/step - loss: 0.0259 - accuracy: 0.9934 - val_loss: 0.0694 - val_accuracy: 0.9825\n",
      "Epoch 33/50\n",
      "29/29 [==============================] - 0s 5ms/step - loss: 0.0252 - accuracy: 0.9934 - val_loss: 0.0698 - val_accuracy: 0.9825\n",
      "Epoch 34/50\n",
      "29/29 [==============================] - 0s 4ms/step - loss: 0.0244 - accuracy: 0.9934 - val_loss: 0.0699 - val_accuracy: 0.9825\n",
      "Epoch 35/50\n",
      "29/29 [==============================] - 0s 4ms/step - loss: 0.0236 - accuracy: 0.9956 - val_loss: 0.0718 - val_accuracy: 0.9825\n",
      "Epoch 36/50\n",
      "29/29 [==============================] - 0s 4ms/step - loss: 0.0227 - accuracy: 0.9956 - val_loss: 0.0712 - val_accuracy: 0.9825\n",
      "Epoch 37/50\n",
      "29/29 [==============================] - 0s 4ms/step - loss: 0.0220 - accuracy: 0.9956 - val_loss: 0.0725 - val_accuracy: 0.9825\n",
      "Epoch 38/50\n",
      "29/29 [==============================] - 0s 4ms/step - loss: 0.0212 - accuracy: 0.9956 - val_loss: 0.0731 - val_accuracy: 0.9825\n",
      "Epoch 39/50\n",
      "29/29 [==============================] - 0s 4ms/step - loss: 0.0206 - accuracy: 0.9956 - val_loss: 0.0728 - val_accuracy: 0.9825\n",
      "Epoch 40/50\n",
      "29/29 [==============================] - 0s 4ms/step - loss: 0.0199 - accuracy: 0.9956 - val_loss: 0.0793 - val_accuracy: 0.9649\n",
      "Epoch 41/50\n",
      "29/29 [==============================] - 0s 4ms/step - loss: 0.0195 - accuracy: 0.9956 - val_loss: 0.0764 - val_accuracy: 0.9825\n",
      "Epoch 42/50\n",
      "29/29 [==============================] - 0s 4ms/step - loss: 0.0184 - accuracy: 0.9956 - val_loss: 0.0772 - val_accuracy: 0.9825\n",
      "Epoch 43/50\n",
      "29/29 [==============================] - 0s 4ms/step - loss: 0.0175 - accuracy: 0.9956 - val_loss: 0.0780 - val_accuracy: 0.9825\n",
      "Epoch 44/50\n",
      "29/29 [==============================] - 0s 4ms/step - loss: 0.0169 - accuracy: 0.9956 - val_loss: 0.0783 - val_accuracy: 0.9825\n",
      "Epoch 45/50\n",
      "29/29 [==============================] - 0s 4ms/step - loss: 0.0165 - accuracy: 0.9956 - val_loss: 0.0793 - val_accuracy: 0.9825\n",
      "Epoch 46/50\n",
      "29/29 [==============================] - 0s 3ms/step - loss: 0.0160 - accuracy: 0.9956 - val_loss: 0.0799 - val_accuracy: 0.9825\n",
      "Epoch 47/50\n",
      "29/29 [==============================] - 0s 4ms/step - loss: 0.0153 - accuracy: 0.9956 - val_loss: 0.0819 - val_accuracy: 0.9825\n",
      "Epoch 48/50\n",
      "29/29 [==============================] - 0s 5ms/step - loss: 0.0149 - accuracy: 0.9956 - val_loss: 0.0813 - val_accuracy: 0.9825\n",
      "Epoch 49/50\n",
      "29/29 [==============================] - 0s 4ms/step - loss: 0.0143 - accuracy: 0.9956 - val_loss: 0.0811 - val_accuracy: 0.9825\n",
      "Epoch 50/50\n",
      "29/29 [==============================] - 0s 4ms/step - loss: 0.0138 - accuracy: 0.9956 - val_loss: 0.0815 - val_accuracy: 0.9825\n",
      "4/4 [==============================] - 0s 2ms/step - loss: 0.0815 - accuracy: 0.9825\n",
      "\n",
      "\n",
      "Test loss: 0.0815\n",
      "Test accuracy: 98.25%\n",
      "\n",
      "\n"
     ]
    }
   ],
   "source": [
    "# Scale the features\n",
    "scaler = StandardScaler()\n",
    "X_train = scaler.fit_transform(X_train)\n",
    "X_test = scaler.transform(X_test)\n",
    "\n",
    "# Define the model\n",
    "model = Sequential()\n",
    "model.add(Dense(16, input_dim=X_train.shape[1], activation='relu'))\n",
    "model.add(Dense(8, activation='relu'))\n",
    "model.add(Dense(4, activation='relu'))\n",
    "model.add(Dense(1, activation='sigmoid'))\n",
    "\n",
    "# Compile the model\n",
    "model.compile(loss='binary_crossentropy', optimizer='adam', metrics=['accuracy'])\n",
    "\n",
    "# Train the model\n",
    "model.fit(X_train, y_train, epochs=50, batch_size=16, validation_data=(X_test, y_test))\n",
    "\n",
    "# Evaluate the model on the test set\n",
    "loss, opt_nn_acc = model.evaluate(X_test, y_test)\n",
    "print(f'\\n\\nTest loss: {loss:.4f}\\nTest accuracy: {opt_nn_acc*100:.2f}%\\n\\n')"
   ]
  },
  {
   "cell_type": "code",
   "execution_count": 20,
   "id": "c4aa9190",
   "metadata": {
    "scrolled": false
   },
   "outputs": [
    {
     "name": "stdout",
     "output_type": "stream",
     "text": [
      "4/4 [==============================] - 0s 2ms/step\n",
      "Optimized Neural Network Accuracy: 98.25%\n",
      "\n",
      "\n",
      "Optimized Neural Network Confusion Matrix:\n",
      "\n",
      "[[70  1]\n",
      " [ 1 42]]\n",
      "\n",
      "\n",
      "Optimized Neural Network Classification Report:\n",
      "\n",
      "              precision    recall  f1-score   support\n",
      "\n",
      "           0       0.99      0.99      0.99        71\n",
      "           1       0.98      0.98      0.98        43\n",
      "\n",
      "    accuracy                           0.98       114\n",
      "   macro avg       0.98      0.98      0.98       114\n",
      "weighted avg       0.98      0.98      0.98       114\n",
      "\n",
      "\n",
      "\n"
     ]
    },
    {
     "data": {
      "image/png": "[encoded data removed]",
      "text/plain": [
       "<Figure size 432x288 with 2 Axes>"
      ]
     },
     "metadata": {},
     "output_type": "display_data"
    }
   ],
   "source": [
    "# Predict on test set and calculate accuracy\n",
    "y_pred_proba = model.predict(X_test)\n",
    "y_pred_opt_nn = np.round(y_pred_proba).astype(int)\n",
    "\n",
    "# Evaluate the Model\n",
    "opt_nn_prec, opt_nn_accuracy, opt_nn_recall, opt_nn_f1 = evaluate_model(y_test, y_pred_opt_nn, \"Optimized Neural Network\")\n"
   ]
  },
  {
   "cell_type": "markdown",
   "id": "5929a828",
   "metadata": {},
   "source": [
    "True Negatives: 67\n",
    "\n",
    "False Positives: 4\n",
    "\n",
    "False Negatives: 1\n",
    "\n",
    "True Positives: 42\n",
    "\n",
    "The accuracy of the optimized model is 95.61%, which means that the model has correctly classified 98.25% of the instances. \n",
    "\n",
    "The optimized model has made 67 true negative predictions (instances of class 0 correctly classified as class 0), 4 false positive prediction (instances of class 1 incorrectly classified as class 0), 1 false negative prediction (instances of class 0 incorrectly classified as class 1), and 42 true positive predictions (instances of class 1 correctly classified as class 1).\n",
    "\n",
    "The confusion matrix shows that out of 71 instances of class 0(B), 67 have been correctly classified while 4 has been misclassified as class 1(M). Similarly, out of 43 instances of class 1(M), 42 have been correctly classified while only 1 has been misclassified as class 0(B).\n",
    "\n",
    "The precision of the optimized model for class 0(B) is 0.99, which means that out of all the instances classified as class 0(B), 99% are actually of class 0(B). The recall of the optimized model for class 0(B) is 0.99, which means that out of all the instances of class 0(B), 99% have been correctly classified by the model. The f1-score of the optimized model for class 0(B) is 0.99, which is the harmonic mean of precision and recall. The support for class 0(B) is 71, which means that there are 71 instances of class 0(B) in the dataset.\n",
    "\n",
    "The precision, recall, f1-score, and support for class 1(M) are 0.99, 0.94, 0.96, and 43, respectively. The weighted average of precision, recall, and f1-score is also provided, which takes into account the number of instances of each class.\n",
    "\n",
    "The optimized neural network seems to be performing significantly better than the previous neural network  in terms of accuracy with a higher number of true positives and true negatives and fewer false positives and false negatives.\n"
   ]
  },
  {
   "cell_type": "markdown",
   "id": "2c3f7690",
   "metadata": {},
   "source": [
    "## Model 6: KNN"
   ]
  },
  {
   "cell_type": "code",
   "execution_count": 21,
   "id": "074330cb",
   "metadata": {},
   "outputs": [
    {
     "name": "stdout",
     "output_type": "stream",
     "text": [
      "Best value of n_neighbors: 5\n"
     ]
    }
   ],
   "source": [
    "# Step1: Find optimum number of neighbours\n",
    "\n",
    "# Define the parameter grid for n_neighbors\n",
    "param_grid = {'n_neighbors': np.arange(1, 50)}\n",
    "\n",
    "# Use GridSearchCV to find the best n_neighbors\n",
    "knn = KNeighborsClassifier()\n",
    "grid_search = GridSearchCV(knn, param_grid, cv=5)\n",
    "grid_search.fit(X_train, y_train)\n",
    "\n",
    "# Print the best value of n_neighbors\n",
    "print(\"Best value of n_neighbors:\", grid_search.best_params_['n_neighbors'])"
   ]
  },
  {
   "cell_type": "code",
   "execution_count": 22,
   "id": "228da1ed",
   "metadata": {
    "scrolled": true
   },
   "outputs": [
    {
     "name": "stdout",
     "output_type": "stream",
     "text": [
      "KNN Accuracy: 94.74%\n",
      "\n",
      "\n",
      "KNN Confusion Matrix:\n",
      "\n",
      "[[68  3]\n",
      " [ 3 40]]\n",
      "\n",
      "\n",
      "KNN Classification Report:\n",
      "\n",
      "              precision    recall  f1-score   support\n",
      "\n",
      "           0       0.96      0.96      0.96        71\n",
      "           1       0.93      0.93      0.93        43\n",
      "\n",
      "    accuracy                           0.95       114\n",
      "   macro avg       0.94      0.94      0.94       114\n",
      "weighted avg       0.95      0.95      0.95       114\n",
      "\n",
      "\n",
      "\n"
     ]
    },
    {
     "data": {
      "image/png": "[encoded data removed]",
      "text/plain": [
       "<Figure size 432x288 with 2 Axes>"
      ]
     },
     "metadata": {},
     "output_type": "display_data"
    }
   ],
   "source": [
    "# Step 2 fit the model and evaluate\n",
    "\n",
    "# Train the KNN classifier\n",
    "knn = KNeighborsClassifier(n_neighbors=5)\n",
    "knn.fit(X_train, y_train)\n",
    "\n",
    "# Prediction\n",
    "\n",
    "y_pred_knn = knn.predict(X_test)\n",
    "\n",
    "\n",
    "# Evaluate the Model\n",
    "\n",
    "knn_prec, knn_accuracy, knn_recall, knn_f1 = evaluate_model(y_test, y_pred_knn, \"KNN\")\n"
   ]
  },
  {
   "cell_type": "markdown",
   "id": "5b7b820c",
   "metadata": {},
   "source": [
    "True Negatives: 68\n",
    "\n",
    "False Positives: 3\n",
    "\n",
    "False Negatives: 3\n",
    "\n",
    "True Positives: 40\n",
    "\n",
    "\n",
    "The accuracy of the KNN classifier is 94.74%, which means that the model has correctly classified 94.74% of the instances. \n",
    "\n",
    "The confusion matrix indicates that the KNN classifier has made 68 true negative predictions (instances of class 0(B) correctly classified as class 0(B)), 3 false positive predictions (instances of class 1(M) incorrectly classified as class 0(B)), 3 false negative predictions (instances of class 0(B) incorrectly classified as class 1(M)), and 40 true positive predictions (instances of class 1(M) correctly classified as class 1(M)).\n",
    "\n",
    "It means that out of 71 instances of class 0(B), 68 have been correctly classified while 3 have been misclassified as class 1(M). Similarly, out of 43 instances of class 1(M), 40 have been correctly classified while 3 have been misclassified as class 0(B).\n",
    "\n",
    "The precision of the KNN classifier for class 0(B) is 0.96, which means that out of all the instances classified as class 0(B), 96% are actually of class 0(B). The recall of the KNN classifier for class 0(B) is 0.96, which means that out of all the instances of class 0(B), 96% have been correctly classified by the model. The f1-score of the KNN classifier for class 0(B) is 0.96, which is the harmonic mean of precision and recall. The support for class 0(B) is 71, which means that there are 71 instances of class 0(B) in the dataset.\n",
    "\n",
    "The precision, recall, f1-score, and support for class 1(M) are 0.93, 0.93, 0.93, and 43, respectively. The weighted average of precision, recall, and f1-score is also provided, which takes into account the number of instances of each class.\n",
    "\n",
    "The KNN classifier performed well in terms of accuracy, with a high number of true positives and true negatives and few false positives and false negatives. However, its performance is not as good as the optimized neural network."
   ]
  },
  {
   "cell_type": "markdown",
   "id": "7151c0fb",
   "metadata": {},
   "source": [
    "## Score Comparison"
   ]
  },
  {
   "cell_type": "code",
   "execution_count": 23,
   "id": "67353bde",
   "metadata": {},
   "outputs": [
    {
     "data": {
      "text/html": [
       "<div>\n",
       "<style scoped>\n",
       "    .dataframe tbody tr th:only-of-type {\n",
       "        vertical-align: middle;\n",
       "    }\n",
       "\n",
       "    .dataframe tbody tr th {\n",
       "        vertical-align: top;\n",
       "    }\n",
       "\n",
       "    .dataframe thead th {\n",
       "        text-align: right;\n",
       "    }\n",
       "</style>\n",
       "<table border=\"1\" class=\"dataframe\">\n",
       "  <thead>\n",
       "    <tr style=\"text-align: right;\">\n",
       "      <th></th>\n",
       "      <th>Models</th>\n",
       "      <th>Accuracy</th>\n",
       "      <th>Precision</th>\n",
       "      <th>Recall</th>\n",
       "      <th>F1-score</th>\n",
       "    </tr>\n",
       "  </thead>\n",
       "  <tbody>\n",
       "    <tr>\n",
       "      <th>0</th>\n",
       "      <td>Logistic Regression</td>\n",
       "      <td>95.61</td>\n",
       "      <td>96.05</td>\n",
       "      <td>94.64</td>\n",
       "      <td>95.26</td>\n",
       "    </tr>\n",
       "    <tr>\n",
       "      <th>1</th>\n",
       "      <td>Decision Tree</td>\n",
       "      <td>92.98</td>\n",
       "      <td>92.53</td>\n",
       "      <td>92.53</td>\n",
       "      <td>92.53</td>\n",
       "    </tr>\n",
       "    <tr>\n",
       "      <th>2</th>\n",
       "      <td>Random Forest</td>\n",
       "      <td>96.49</td>\n",
       "      <td>96.73</td>\n",
       "      <td>95.81</td>\n",
       "      <td>96.23</td>\n",
       "    </tr>\n",
       "    <tr>\n",
       "      <th>3</th>\n",
       "      <td>SVM</td>\n",
       "      <td>95.61</td>\n",
       "      <td>96.05</td>\n",
       "      <td>94.64</td>\n",
       "      <td>95.26</td>\n",
       "    </tr>\n",
       "    <tr>\n",
       "      <th>4</th>\n",
       "      <td>Optimized Neural Network</td>\n",
       "      <td>98.25</td>\n",
       "      <td>98.13</td>\n",
       "      <td>98.13</td>\n",
       "      <td>98.13</td>\n",
       "    </tr>\n",
       "    <tr>\n",
       "      <th>5</th>\n",
       "      <td>KNN</td>\n",
       "      <td>94.74</td>\n",
       "      <td>94.40</td>\n",
       "      <td>94.40</td>\n",
       "      <td>94.40</td>\n",
       "    </tr>\n",
       "  </tbody>\n",
       "</table>\n",
       "</div>"
      ],
      "text/plain": [
       "                     Models  Accuracy  Precision  Recall  F1-score\n",
       "0       Logistic Regression     95.61      96.05   94.64     95.26\n",
       "1             Decision Tree     92.98      92.53   92.53     92.53\n",
       "2             Random Forest     96.49      96.73   95.81     96.23\n",
       "3                       SVM     95.61      96.05   94.64     95.26\n",
       "4  Optimized Neural Network     98.25      98.13   98.13     98.13\n",
       "5                       KNN     94.74      94.40   94.40     94.40"
      ]
     },
     "execution_count": 23,
     "metadata": {},
     "output_type": "execute_result"
    }
   ],
   "source": [
    "# Create list of models and scores\n",
    "models_list = ['Logistic Regression', 'Decision Tree', 'Random Forest', 'SVM', 'Optimized Neural Network', 'KNN']\n",
    "accuracy_list = [linreg_accuracy, dt_accuracy, rf_accuracy, svm_accuracy, opt_nn_accuracy, knn_accuracy]\n",
    "precision_list = [linreg_prec, dt_prec, rf_prec, svm_prec, opt_nn_prec, knn_prec]\n",
    "recall_list = [linreg_recall, dt_recall, rf_recall, svm_recall, opt_nn_recall, knn_recall]\n",
    "f1_list = [linreg_f1, dt_f1, rf_f1, svm_f1, opt_nn_f1, knn_f1]\n",
    "\n",
    "# Create score dataframe\n",
    "score_df = pd.DataFrame({\n",
    "    'Models': models_list,\n",
    "    'Accuracy': accuracy_list,\n",
    "    'Precision': precision_list,\n",
    "    'Recall': recall_list,\n",
    "    'F1-score': f1_list\n",
    "})\n",
    "\n",
    "# Modify numerical columns to be in % with 2 decimal points\n",
    "score_df[['Accuracy', 'Precision', 'Recall', 'F1-score']] = score_df[['Accuracy', 'Precision', 'Recall', 'F1-score']].apply(lambda x: round(x * 100, 2))\n",
    "\n",
    "score_df"
   ]
  },
  {
   "cell_type": "code",
   "execution_count": 24,
   "id": "bfca5e10",
   "metadata": {},
   "outputs": [
    {
     "data": {
      "image/png": "[encoded data removed]",
      "text/plain": [
       "<Figure size 864x864 with 4 Axes>"
      ]
     },
     "metadata": {},
     "output_type": "display_data"
    }
   ],
   "source": [
    "# Create a 2x2 plot to compare all the scores\n",
    "fig, axes = plt.subplots(2, 2, figsize=(12, 12))\n",
    "fig.suptitle('Model Performance Metrics Comparison')\n",
    "\n",
    "# Plot Accuracy\n",
    "accuracy_sorted = score_df.sort_values(by='Accuracy', ascending=False)\n",
    "sns.barplot(ax=axes[0, 0], x='Models', y='Accuracy', data=accuracy_sorted)\n",
    "axes[0, 0].set_title('Accuracy')\n",
    "axes[0, 0].set_xticklabels(axes[0, 0].get_xticklabels(), rotation=45, horizontalalignment='right')\n",
    "for i, v in enumerate(accuracy_sorted['Accuracy']):\n",
    "    axes[0, 0].text(i, v, f\"{v}%\", ha='center', va='bottom', fontsize=10)\n",
    "\n",
    "# Plot Precision\n",
    "precision_sorted = score_df.sort_values(by='Precision', ascending=False)\n",
    "sns.barplot(ax=axes[0, 1], x='Models', y='Precision', data=precision_sorted)\n",
    "axes[0, 1].set_title('Precision')\n",
    "axes[0, 1].set_xticklabels(axes[0, 1].get_xticklabels(), rotation=45, horizontalalignment='right')\n",
    "for i, v in enumerate(precision_sorted['Precision']):\n",
    "    axes[0, 1].text(i, v, f\"{v}%\", ha='center', va='bottom', fontsize=10)\n",
    "\n",
    "# Plot Recall\n",
    "recall_sorted = score_df.sort_values(by='Recall', ascending=False)\n",
    "sns.barplot(ax=axes[1, 0], x='Models', y='Recall', data=recall_sorted)\n",
    "axes[1, 0].set_title('Recall')\n",
    "axes[1, 0].set_xticklabels(axes[1, 0].get_xticklabels(), rotation=45, horizontalalignment='right')\n",
    "for i, v in enumerate(recall_sorted['Recall']):\n",
    "    axes[1, 0].text(i, v, f\"{v}%\", ha='center', va='bottom', fontsize=10)\n",
    "\n",
    "# Plot F1-score\n",
    "f1_sorted = score_df.sort_values(by='F1-score', ascending=False)\n",
    "sns.barplot(ax=axes[1, 1], x='Models', y='F1-score', data=f1_sorted)\n",
    "axes[1, 1].set_title('F1-score')\n",
    "axes[1, 1].set_xticklabels(axes[1, 1].get_xticklabels(), rotation=45, horizontalalignment='right')\n",
    "for i, v in enumerate(f1_sorted['F1-score']):\n",
    "    axes[1, 1].text(i, v, f\"{v}%\", ha='center', va='bottom', fontsize=10)\n",
    "\n",
    "plt.tight_layout()\n",
    "plt.show()"
   ]
  }
 ],
 "metadata": {
  "kernelspec": {
   "display_name": "Python 3 (ipykernel)",
   "language": "python",
   "name": "python3"
  },
  "language_info": {
   "codemirror_mode": {
    "name": "ipython",
    "version": 3
   },
   "file_extension": ".py",
   "mimetype": "text/x-python",
   "name": "python",
   "nbconvert_exporter": "python",
   "pygments_lexer": "ipython3",
   "version": "3.9.12"
  }
 },
 "nbformat": 4,
 "nbformat_minor": 5
}
