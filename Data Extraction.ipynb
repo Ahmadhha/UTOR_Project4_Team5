{
 "cells": [
  {
   "cell_type": "markdown",
   "id": "e092c201",
   "metadata": {},
   "source": [
    "# Data Extraction"
   ]
  },
  {
   "cell_type": "markdown",
   "id": "2f2c111e",
   "metadata": {},
   "source": [
    "Set-up Instructions:\n",
    "\n",
    "Install !pip install opendatasets {!pip install opendatasets} to download a CSV file using API (API key is required)."
   ]
  },
  {
   "cell_type": "code",
   "execution_count": 1,
   "id": "43cd4c15",
   "metadata": {},
   "outputs": [],
   "source": [
    "# Import dependecies\n",
    "\n",
    "import opendatasets as od"
   ]
  },
  {
   "cell_type": "code",
   "execution_count": null,
   "id": "44888c3e",
   "metadata": {},
   "outputs": [],
   "source": [
    "# Download directly from kaggle.com using API with API key\n",
    "\n",
    "od.download(\"https://www.kaggle.com/datasets/uciml/breast-cancer-wisconsin-data?select=data.csv\")"
   ]
  },
  {
   "cell_type": "markdown",
   "id": "cad7e06c",
   "metadata": {},
   "source": [
    "# Data Source"
   ]
  },
  {
   "cell_type": "markdown",
   "id": "13666bcd",
   "metadata": {},
   "source": [
    "https://www.kaggle.com/datasets/uciml/breast-cancer-wisconsin-data?select=data.csv"
   ]
  },
  {
   "cell_type": "markdown",
   "id": "b0f8aebe",
   "metadata": {},
   "source": [
    "# About the Data"
   ]
  },
  {
   "cell_type": "markdown",
   "id": "1a51da33",
   "metadata": {},
   "source": [
    "The breast cancer Wisconsin (Diagnostic) dataset contains measurements from digitized images of fine needle aspirates of breast masses. The dataset includes 30 features and 569 instances, with a class distribution of 357 benign and 212 malignant. The information below are extracted from the website.\n",
    "\n",
    "Owner:\n",
    "UCI Machine Learning\n",
    "\n",
    "Features are computed from a digitized image of a fine needle aspirate (FNA) of a breast mass. They describe characteristics of the cell nuclei present in the image.\n",
    "n the 3-dimensional space is that described in: [K. P. Bennett and O. L. Mangasarian: \"Robust Linear Programming Discrimination of Two Linearly Inseparable Sets\", Optimization Methods and Software 1, 1992, 23-34].\n",
    "\n",
    "This database is also available through the UW CS ftp server:\n",
    "ftp ftp.cs.wisc.edu\n",
    "cd math-prog/cpo-dataset/machine-learn/WDBC/\n",
    "\n",
    "Also can be found on UCI Machine Learning Repository: https://archive.ics.uci.edu/ml/datasets/Breast+Cancer+Wisconsin+%28Diagnostic%29\n",
    "\n",
    "Attribute Information:\n",
    "\n",
    "1. ID number\n",
    "\n",
    "2. Diagnosis (M = malignant, B = benign)\n",
    "3-32)\n",
    "\n",
    "\n",
    "Ten real-valued features are computed for each cell nucleus:\n",
    "\n",
    "\n",
    "- radius (mean of distances from center to points on the perimeter)\n",
    "\n",
    "- texture (standard deviation of gray-scale values)\n",
    "\n",
    "- perimeter\n",
    "\n",
    "- area\n",
    "\n",
    "- smoothness (local variation in radius lengths)\n",
    "\n",
    "- compactness (perimeter^2 / area - 1.0)\n",
    "\n",
    "- concavity (severity of concave portions of the contour)\n",
    "\n",
    "- concave points (number of concave portions of the contour)\n",
    "\n",
    "- symmetry\n",
    "\n",
    "- fractal dimension (\"coastline approximation\" - 1)\n",
    "\n",
    "\n",
    "The mean, standard error and \"worst\" or largest (mean of the three\n",
    "largest values) of these features were computed for each image,\n",
    "resulting in 30 features. For instance, field 3 is Mean Radius, field\n",
    "13 is Radius SE, field 23 is Worst Radius.\n",
    "\n",
    "All feature values are recoded with four significant digits.\n",
    "\n",
    "Missing attribute values: none\n",
    "\n",
    "Class distribution: 357 benign, 212 malignant\n",
    "\n",
    "(Source:https://www.kaggle.com/datasets/uciml/breast-cancer-wisconsin-data)"
   ]
  },
  {
   "cell_type": "markdown",
   "id": "352b87d2",
   "metadata": {},
   "source": [
    "# Disclaimer:"
   ]
  },
  {
   "cell_type": "markdown",
   "id": "6ac02a6b",
   "metadata": {},
   "source": [
    "The Breast Cancer Wisconsin (Diagnostic) dataset is made available for academic purposes only. The dataset contains information on characteristics of cell nuclei present in fine needle aspirate (FNA) images of breast masses. The dataset is intended to be used for research and educational purposes only and not for gaining commercial benefits. The dataset does not contain any sensitive personal information of individuals. The dataset is provided as is, without any warranty, express or implied, including without limitation, warranties of merchantability or fitness for a particular purpose. Users are responsible for ensuring that their use of the dataset complies with all applicable laws and regulations. The creators and distributors of the dataset are not liable for any damages arising from the use of the dataset."
   ]
  }
 ],
 "metadata": {
  "kernelspec": {
   "display_name": "Python 3 (ipykernel)",
   "language": "python",
   "name": "python3"
  },
  "language_info": {
   "codemirror_mode": {
    "name": "ipython",
    "version": 3
   },
   "file_extension": ".py",
   "mimetype": "text/x-python",
   "name": "python",
   "nbconvert_exporter": "python",
   "pygments_lexer": "ipython3",
   "version": "3.9.12"
  }
 },
 "nbformat": 4,
 "nbformat_minor": 5
}
