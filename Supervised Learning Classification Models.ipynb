{
 "cells": [
  {
   "cell_type": "markdown",
   "id": "b8a14b30",
   "metadata": {},
   "source": [
    "# Overview\n",
    "_______________________________________________________________\n",
    "\n",
    "### MACHINE LEARNING ANALYSIS TO BE PERFORMED\n",
    "\n",
    "Diagnosis of breast masses as benign or malignant: Machine learning analysis will be performed on this dataset to build a predictive model that can distinguish between benign and malignant breast masses.\n",
    "\n",
    "5 Machine learning models will be compared to identified that most optimum algorithm for this data set.\n",
    "\n",
    "### Algorithms to explore are:\n",
    "\n",
    "1. Logistic Regression\n",
    "\n",
    "2. Decision Tree\n",
    "\n",
    "3. Random Forest\n",
    "\n",
    "4. Support Vector Machine (SVM)\n",
    "\n",
    "5. Neural Network\n",
    "\n",
    "\n",
    "### Diagnosis of breast masses ( benign or malignant)\n",
    "\n",
    "The problem of diagnosing breast cancer as malignant or benign is a binary classification problem, as there are only two possible outcomes. Therefore, we can build a binary classification model using supervised learning algorithms.\n",
    "\n",
    " \n",
    "\n",
    "# Script\n",
    "________________________________________________________________________________\n",
    "\n"
   ]
  },
  {
   "cell_type": "code",
   "execution_count": 1,
   "id": "a50ccfc0",
   "metadata": {},
   "outputs": [],
   "source": [
    "# Import Dependencies\n",
    "\n",
    "import pandas as pd\n",
    "import seaborn as sns\n",
    "import matplotlib.pyplot as plt\n",
    "import plotly.graph_objs as go\n",
    "\n",
    "from sklearn.metrics import confusion_matrix, balanced_accuracy_score, confusion_matrix, classification_report, accuracy_score\n",
    "from sklearn.linear_model import LogisticRegression\n",
    "from sklearn.model_selection import train_test_split\n",
    "from sklearn.tree import DecisionTreeClassifier\n",
    "from sklearn.ensemble import RandomForestClassifier\n",
    "from sklearn.preprocessing import StandardScaler\n",
    "from sklearn.svm import SVC\n",
    "\n",
    "from tensorflow.keras.models import Sequential\n",
    "from tensorflow.keras.layers import Dense"
   ]
  },
  {
   "cell_type": "markdown",
   "id": "d8bd7a41",
   "metadata": {},
   "source": [
    "## Data Prepation (Cleaning and Pre-Processing)"
   ]
  },
  {
   "cell_type": "code",
   "execution_count": 2,
   "id": "74d5ec10",
   "metadata": {},
   "outputs": [
    {
     "data": {
      "text/html": [
       "<div>\n",
       "<style scoped>\n",
       "    .dataframe tbody tr th:only-of-type {\n",
       "        vertical-align: middle;\n",
       "    }\n",
       "\n",
       "    .dataframe tbody tr th {\n",
       "        vertical-align: top;\n",
       "    }\n",
       "\n",
       "    .dataframe thead th {\n",
       "        text-align: right;\n",
       "    }\n",
       "</style>\n",
       "<table border=\"1\" class=\"dataframe\">\n",
       "  <thead>\n",
       "    <tr style=\"text-align: right;\">\n",
       "      <th></th>\n",
       "      <th>id</th>\n",
       "      <th>diagnosis</th>\n",
       "      <th>radius_mean</th>\n",
       "      <th>texture_mean</th>\n",
       "      <th>perimeter_mean</th>\n",
       "      <th>area_mean</th>\n",
       "      <th>smoothness_mean</th>\n",
       "      <th>compactness_mean</th>\n",
       "      <th>concavity_mean</th>\n",
       "      <th>concave points_mean</th>\n",
       "      <th>...</th>\n",
       "      <th>radius_worst</th>\n",
       "      <th>texture_worst</th>\n",
       "      <th>perimeter_worst</th>\n",
       "      <th>area_worst</th>\n",
       "      <th>smoothness_worst</th>\n",
       "      <th>compactness_worst</th>\n",
       "      <th>concavity_worst</th>\n",
       "      <th>concave points_worst</th>\n",
       "      <th>symmetry_worst</th>\n",
       "      <th>fractal_dimension_worst</th>\n",
       "    </tr>\n",
       "  </thead>\n",
       "  <tbody>\n",
       "    <tr>\n",
       "      <th>0</th>\n",
       "      <td>842302</td>\n",
       "      <td>M</td>\n",
       "      <td>17.99</td>\n",
       "      <td>10.38</td>\n",
       "      <td>122.80</td>\n",
       "      <td>1001.0</td>\n",
       "      <td>0.11840</td>\n",
       "      <td>0.27760</td>\n",
       "      <td>0.3001</td>\n",
       "      <td>0.14710</td>\n",
       "      <td>...</td>\n",
       "      <td>25.38</td>\n",
       "      <td>17.33</td>\n",
       "      <td>184.60</td>\n",
       "      <td>2019.0</td>\n",
       "      <td>0.1622</td>\n",
       "      <td>0.6656</td>\n",
       "      <td>0.7119</td>\n",
       "      <td>0.2654</td>\n",
       "      <td>0.4601</td>\n",
       "      <td>0.11890</td>\n",
       "    </tr>\n",
       "    <tr>\n",
       "      <th>1</th>\n",
       "      <td>842517</td>\n",
       "      <td>M</td>\n",
       "      <td>20.57</td>\n",
       "      <td>17.77</td>\n",
       "      <td>132.90</td>\n",
       "      <td>1326.0</td>\n",
       "      <td>0.08474</td>\n",
       "      <td>0.07864</td>\n",
       "      <td>0.0869</td>\n",
       "      <td>0.07017</td>\n",
       "      <td>...</td>\n",
       "      <td>24.99</td>\n",
       "      <td>23.41</td>\n",
       "      <td>158.80</td>\n",
       "      <td>1956.0</td>\n",
       "      <td>0.1238</td>\n",
       "      <td>0.1866</td>\n",
       "      <td>0.2416</td>\n",
       "      <td>0.1860</td>\n",
       "      <td>0.2750</td>\n",
       "      <td>0.08902</td>\n",
       "    </tr>\n",
       "    <tr>\n",
       "      <th>2</th>\n",
       "      <td>84300903</td>\n",
       "      <td>M</td>\n",
       "      <td>19.69</td>\n",
       "      <td>21.25</td>\n",
       "      <td>130.00</td>\n",
       "      <td>1203.0</td>\n",
       "      <td>0.10960</td>\n",
       "      <td>0.15990</td>\n",
       "      <td>0.1974</td>\n",
       "      <td>0.12790</td>\n",
       "      <td>...</td>\n",
       "      <td>23.57</td>\n",
       "      <td>25.53</td>\n",
       "      <td>152.50</td>\n",
       "      <td>1709.0</td>\n",
       "      <td>0.1444</td>\n",
       "      <td>0.4245</td>\n",
       "      <td>0.4504</td>\n",
       "      <td>0.2430</td>\n",
       "      <td>0.3613</td>\n",
       "      <td>0.08758</td>\n",
       "    </tr>\n",
       "    <tr>\n",
       "      <th>3</th>\n",
       "      <td>84348301</td>\n",
       "      <td>M</td>\n",
       "      <td>11.42</td>\n",
       "      <td>20.38</td>\n",
       "      <td>77.58</td>\n",
       "      <td>386.1</td>\n",
       "      <td>0.14250</td>\n",
       "      <td>0.28390</td>\n",
       "      <td>0.2414</td>\n",
       "      <td>0.10520</td>\n",
       "      <td>...</td>\n",
       "      <td>14.91</td>\n",
       "      <td>26.50</td>\n",
       "      <td>98.87</td>\n",
       "      <td>567.7</td>\n",
       "      <td>0.2098</td>\n",
       "      <td>0.8663</td>\n",
       "      <td>0.6869</td>\n",
       "      <td>0.2575</td>\n",
       "      <td>0.6638</td>\n",
       "      <td>0.17300</td>\n",
       "    </tr>\n",
       "    <tr>\n",
       "      <th>4</th>\n",
       "      <td>84358402</td>\n",
       "      <td>M</td>\n",
       "      <td>20.29</td>\n",
       "      <td>14.34</td>\n",
       "      <td>135.10</td>\n",
       "      <td>1297.0</td>\n",
       "      <td>0.10030</td>\n",
       "      <td>0.13280</td>\n",
       "      <td>0.1980</td>\n",
       "      <td>0.10430</td>\n",
       "      <td>...</td>\n",
       "      <td>22.54</td>\n",
       "      <td>16.67</td>\n",
       "      <td>152.20</td>\n",
       "      <td>1575.0</td>\n",
       "      <td>0.1374</td>\n",
       "      <td>0.2050</td>\n",
       "      <td>0.4000</td>\n",
       "      <td>0.1625</td>\n",
       "      <td>0.2364</td>\n",
       "      <td>0.07678</td>\n",
       "    </tr>\n",
       "  </tbody>\n",
       "</table>\n",
       "<p>5 rows × 32 columns</p>\n",
       "</div>"
      ],
      "text/plain": [
       "         id diagnosis  radius_mean  texture_mean  perimeter_mean  area_mean  \\\n",
       "0    842302         M        17.99         10.38          122.80     1001.0   \n",
       "1    842517         M        20.57         17.77          132.90     1326.0   \n",
       "2  84300903         M        19.69         21.25          130.00     1203.0   \n",
       "3  84348301         M        11.42         20.38           77.58      386.1   \n",
       "4  84358402         M        20.29         14.34          135.10     1297.0   \n",
       "\n",
       "   smoothness_mean  compactness_mean  concavity_mean  concave points_mean  \\\n",
       "0          0.11840           0.27760          0.3001              0.14710   \n",
       "1          0.08474           0.07864          0.0869              0.07017   \n",
       "2          0.10960           0.15990          0.1974              0.12790   \n",
       "3          0.14250           0.28390          0.2414              0.10520   \n",
       "4          0.10030           0.13280          0.1980              0.10430   \n",
       "\n",
       "   ...  radius_worst  texture_worst  perimeter_worst  area_worst  \\\n",
       "0  ...         25.38          17.33           184.60      2019.0   \n",
       "1  ...         24.99          23.41           158.80      1956.0   \n",
       "2  ...         23.57          25.53           152.50      1709.0   \n",
       "3  ...         14.91          26.50            98.87       567.7   \n",
       "4  ...         22.54          16.67           152.20      1575.0   \n",
       "\n",
       "   smoothness_worst  compactness_worst  concavity_worst  concave points_worst  \\\n",
       "0            0.1622             0.6656           0.7119                0.2654   \n",
       "1            0.1238             0.1866           0.2416                0.1860   \n",
       "2            0.1444             0.4245           0.4504                0.2430   \n",
       "3            0.2098             0.8663           0.6869                0.2575   \n",
       "4            0.1374             0.2050           0.4000                0.1625   \n",
       "\n",
       "   symmetry_worst  fractal_dimension_worst  \n",
       "0          0.4601                  0.11890  \n",
       "1          0.2750                  0.08902  \n",
       "2          0.3613                  0.08758  \n",
       "3          0.6638                  0.17300  \n",
       "4          0.2364                  0.07678  \n",
       "\n",
       "[5 rows x 32 columns]"
      ]
     },
     "execution_count": 2,
     "metadata": {},
     "output_type": "execute_result"
    }
   ],
   "source": [
    "# Read in the CSV file\n",
    "breast_cancer_data = pd.read_csv('Resources/breast_cancer_data.csv', usecols=lambda col: col != 'Unnamed: 32')\n",
    "\n",
    "# Display the first few rows of the DataFrame\n",
    "breast_cancer_data.head()"
   ]
  },
  {
   "cell_type": "code",
   "execution_count": 3,
   "id": "0d7b008a",
   "metadata": {},
   "outputs": [
    {
     "name": "stdout",
     "output_type": "stream",
     "text": [
      "<class 'pandas.core.frame.DataFrame'>\n",
      "RangeIndex: 569 entries, 0 to 568\n",
      "Data columns (total 31 columns):\n",
      " #   Column                   Non-Null Count  Dtype  \n",
      "---  ------                   --------------  -----  \n",
      " 0   diagnosis                569 non-null    object \n",
      " 1   radius_mean              569 non-null    float64\n",
      " 2   texture_mean             569 non-null    float64\n",
      " 3   perimeter_mean           569 non-null    float64\n",
      " 4   area_mean                569 non-null    float64\n",
      " 5   smoothness_mean          569 non-null    float64\n",
      " 6   compactness_mean         569 non-null    float64\n",
      " 7   concavity_mean           569 non-null    float64\n",
      " 8   concave points_mean      569 non-null    float64\n",
      " 9   symmetry_mean            569 non-null    float64\n",
      " 10  fractal_dimension_mean   569 non-null    float64\n",
      " 11  radius_se                569 non-null    float64\n",
      " 12  texture_se               569 non-null    float64\n",
      " 13  perimeter_se             569 non-null    float64\n",
      " 14  area_se                  569 non-null    float64\n",
      " 15  smoothness_se            569 non-null    float64\n",
      " 16  compactness_se           569 non-null    float64\n",
      " 17  concavity_se             569 non-null    float64\n",
      " 18  concave points_se        569 non-null    float64\n",
      " 19  symmetry_se              569 non-null    float64\n",
      " 20  fractal_dimension_se     569 non-null    float64\n",
      " 21  radius_worst             569 non-null    float64\n",
      " 22  texture_worst            569 non-null    float64\n",
      " 23  perimeter_worst          569 non-null    float64\n",
      " 24  area_worst               569 non-null    float64\n",
      " 25  smoothness_worst         569 non-null    float64\n",
      " 26  compactness_worst        569 non-null    float64\n",
      " 27  concavity_worst          569 non-null    float64\n",
      " 28  concave points_worst     569 non-null    float64\n",
      " 29  symmetry_worst           569 non-null    float64\n",
      " 30  fractal_dimension_worst  569 non-null    float64\n",
      "dtypes: float64(30), object(1)\n",
      "memory usage: 137.9+ KB\n"
     ]
    }
   ],
   "source": [
    "# Drop the non-beneficial ID columns, 'id'\n",
    "breast_cancer_data = breast_cancer_data.drop(columns = ['id'])\n",
    "\n",
    "# Print the data types of each column\n",
    "breast_cancer_data.info()"
   ]
  },
  {
   "cell_type": "code",
   "execution_count": 4,
   "id": "907d56b4",
   "metadata": {
    "scrolled": false
   },
   "outputs": [
    {
     "name": "stdout",
     "output_type": "stream",
     "text": [
      "diagnosis                    2\n",
      "radius_mean                456\n",
      "texture_mean               479\n",
      "perimeter_mean             522\n",
      "area_mean                  539\n",
      "smoothness_mean            474\n",
      "compactness_mean           537\n",
      "concavity_mean             537\n",
      "concave points_mean        542\n",
      "symmetry_mean              432\n",
      "fractal_dimension_mean     499\n",
      "radius_se                  540\n",
      "texture_se                 519\n",
      "perimeter_se               533\n",
      "area_se                    528\n",
      "smoothness_se              547\n",
      "compactness_se             541\n",
      "concavity_se               533\n",
      "concave points_se          507\n",
      "symmetry_se                498\n",
      "fractal_dimension_se       545\n",
      "radius_worst               457\n",
      "texture_worst              511\n",
      "perimeter_worst            514\n",
      "area_worst                 544\n",
      "smoothness_worst           411\n",
      "compactness_worst          529\n",
      "concavity_worst            539\n",
      "concave points_worst       492\n",
      "symmetry_worst             500\n",
      "fractal_dimension_worst    535\n",
      "dtype: int64\n"
     ]
    }
   ],
   "source": [
    "# Determine the number of unique values in each column.\n",
    "unique_value_counts = breast_cancer_data.nunique()\n",
    "print(unique_value_counts)"
   ]
  },
  {
   "cell_type": "code",
   "execution_count": 5,
   "id": "384b6911",
   "metadata": {},
   "outputs": [
    {
     "data": {
      "text/plain": [
       "B    357\n",
       "M    212\n",
       "Name: diagnosis, dtype: int64"
      ]
     },
     "execution_count": 5,
     "metadata": {},
     "output_type": "execute_result"
    }
   ],
   "source": [
    "# Check the Target Class frequency\n",
    "breast_cancer_data['diagnosis'].value_counts()"
   ]
  },
  {
   "cell_type": "code",
   "execution_count": 6,
   "id": "2dd69607",
   "metadata": {},
   "outputs": [],
   "source": [
    "# Drop the 'id' column and set the diagnosis column as the target variable\n",
    "X = breast_cancer_data.drop(columns=['diagnosis'])\n",
    "y = breast_cancer_data['diagnosis'].map({'M': 1, 'B': 0})\n",
    "\n",
    "# Split the data into training and testing sets\n",
    "X_train, X_test, y_train, y_test = train_test_split(X, y, test_size=0.2, random_state=42)\n"
   ]
  },
  {
   "cell_type": "markdown",
   "id": "68991b83",
   "metadata": {},
   "source": [
    "## Model 1: Logistic Regression"
   ]
  },
  {
   "cell_type": "code",
   "execution_count": 7,
   "id": "ad0d6c14",
   "metadata": {},
   "outputs": [
    {
     "data": {
      "text/plain": [
       "LogisticRegression(max_iter=5000)"
      ]
     },
     "execution_count": 7,
     "metadata": {},
     "output_type": "execute_result"
    }
   ],
   "source": [
    "# Create a Logistic Regression model with a higher maximum number of iterations\n",
    "logreg = LogisticRegression(max_iter=5000)\n",
    "\n",
    "# Fit the model to the breast cancer data\n",
    "logreg.fit(X_train, y_train)\n"
   ]
  },
  {
   "cell_type": "code",
   "execution_count": 8,
   "id": "6f7be0f7",
   "metadata": {},
   "outputs": [
    {
     "name": "stdout",
     "output_type": "stream",
     "text": [
      "Logistic Regression Accuracy: 95.61%\n",
      "\n",
      "\n",
      "Logistic Regression Confusion matrix:\n",
      "\n",
      "[[70  1]\n",
      " [ 4 39]]\n",
      "\n",
      "\n",
      "Logistic Regression Classification Report:\n",
      "\n",
      "              precision    recall  f1-score   support\n",
      "\n",
      "           0       0.95      0.99      0.97        71\n",
      "           1       0.97      0.91      0.94        43\n",
      "\n",
      "    accuracy                           0.96       114\n",
      "   macro avg       0.96      0.95      0.95       114\n",
      "weighted avg       0.96      0.96      0.96       114\n",
      "\n",
      "\n",
      "\n"
     ]
    },
    {
     "data": {
      "image/png": "[encoded data removed]",
      "text/plain": [
       "<Figure size 432x288 with 2 Axes>"
      ]
     },
     "metadata": {
      "needs_background": "light"
     },
     "output_type": "display_data"
    }
   ],
   "source": [
    "# Predict on test set and calculate accuracy\n",
    "y_pred = logreg.predict(X_test)\n",
    "accuracy = accuracy_score(y_test, y_pred)\n",
    "print(f\"Logistic Regression Accuracy: {round(accuracy*100,2)}%\\n\\n\")\n",
    "\n",
    "# Generate a confusion matrix\n",
    "conf_matrix = confusion_matrix(y_test, y_pred)\n",
    "print(f\"Logistic Regression Confusion matrix:\\n\\n{conf_matrix}\\n\\n\")\n",
    "\n",
    "# Generate a classification report\n",
    "classification = classification_report(y_test, y_pred)\n",
    "print(f\"Logistic Regression Classification Report:\\n\\n{classification}\\n\\n\")\n",
    "\n",
    "# Create a heatmap of the confusion matrix\n",
    "sns.heatmap(conf_matrix, annot=True, cmap='Blues', fmt='g')\n",
    "plt.xlabel('Predicted label')\n",
    "plt.ylabel('True label')\n",
    "plt.title('Logistic Regression Confusion Matrix')\n",
    "plt.show()\n",
    "\n"
   ]
  },
  {
   "cell_type": "markdown",
   "id": "ec0b2090",
   "metadata": {},
   "source": [
    "True Negatives: 70\n",
    "    \n",
    "False Positives: 1\n",
    "    \n",
    "False Negatives: 4\n",
    "    \n",
    "True Positives: 39"
   ]
  },
  {
   "cell_type": "markdown",
   "id": "22aed5ed",
   "metadata": {},
   "source": [
    "The model appears to have performed reasonably well, given the accuracy of 0.956 and the values of true negatives, false positives, false negatives, and true positives obtained from the confusion matrix."
   ]
  },
  {
   "cell_type": "markdown",
   "id": "cf0199d8",
   "metadata": {},
   "source": [
    "## Model 2: Decision Tree"
   ]
  },
  {
   "cell_type": "code",
   "execution_count": 9,
   "id": "6065e321",
   "metadata": {},
   "outputs": [
    {
     "data": {
      "text/plain": [
       "DecisionTreeClassifier()"
      ]
     },
     "execution_count": 9,
     "metadata": {},
     "output_type": "execute_result"
    }
   ],
   "source": [
    "# Initialize and fit decision tree model\n",
    "dt = DecisionTreeClassifier()\n",
    "dt.fit(X_train, y_train)"
   ]
  },
  {
   "cell_type": "code",
   "execution_count": 10,
   "id": "51c9dec6",
   "metadata": {
    "scrolled": true
   },
   "outputs": [
    {
     "name": "stdout",
     "output_type": "stream",
     "text": [
      "Decision Tree Accuracy: 92.98%\n",
      "\n",
      "\n",
      "Decision Tree Confusion matrix:\n",
      "\n",
      "[[67  4]\n",
      " [ 4 39]]\n",
      "\n",
      "\n",
      "Decision Tree Classification Report:\n",
      "\n",
      "              precision    recall  f1-score   support\n",
      "\n",
      "           0       0.94      0.94      0.94        71\n",
      "           1       0.91      0.91      0.91        43\n",
      "\n",
      "    accuracy                           0.93       114\n",
      "   macro avg       0.93      0.93      0.93       114\n",
      "weighted avg       0.93      0.93      0.93       114\n",
      "\n",
      "\n",
      "\n"
     ]
    },
    {
     "data": {
      "image/png": "[encoded data removed]",
      "text/plain": [
       "<Figure size 432x288 with 2 Axes>"
      ]
     },
     "metadata": {
      "needs_background": "light"
     },
     "output_type": "display_data"
    }
   ],
   "source": [
    "# Predict on test set and calculate accuracy\n",
    "y_pred = dt.predict(X_test)\n",
    "accuracy = accuracy_score(y_test, y_pred)\n",
    "print(f\"Decision Tree Accuracy: {round(accuracy*100,2)}%\\n\\n\")\n",
    "\n",
    "# Generate a confusion matrix\n",
    "conf_matrix = confusion_matrix(y_test, y_pred)\n",
    "print(f\"Decision Tree Confusion matrix:\\n\\n{conf_matrix}\\n\\n\")\n",
    "\n",
    "# Generate a classification report\n",
    "classification = classification_report(y_test, y_pred)\n",
    "print(f\"Decision Tree Classification Report:\\n\\n{classification}\\n\\n\")\n",
    "\n",
    "\n",
    "# Plot the confusion matrix as a heatmap\n",
    "sns.heatmap(conf_matrix, annot=True, cmap='Blues', fmt='g')\n",
    "plt.xlabel('Predicted label')\n",
    "plt.ylabel('True label')\n",
    "plt.title('Decision Tree Confusion Matrix')\n",
    "plt.show()\n"
   ]
  },
  {
   "cell_type": "markdown",
   "id": "0325492a",
   "metadata": {},
   "source": [
    "The confusion matrix [[68 3] [3 40]] shows that the Decision Tree model predicted 68 benign samples correctly as benign (true negatives), incorrectly predicted 3 benign samples as malignant (false positives), incorrectly predicted 3 malignant samples as benign (false negatives), and predicted 40 malignant samples correctly as malignant (true positives).\n",
    "\n",
    "The accuracy of 0.9385964912280702 indicates that the model predicted the correct class for approximately 94% of the samples in the test set. This is a reasonably good performance, but not as good as the performance of the Logistic Regression or SVM models.\n",
    "\n",
    "For the benign class, the model achieved a precision of 0.96, meaning that among the samples predicted as benign, 96% were actually benign. The model also achieved a recall of 0.96, meaning that among the actual benign samples, 96% were correctly identified as benign. For the malignant class, the model achieved a precision of 0.93, meaning that among the samples predicted as malignant, 93% were actually malignant. The model also achieved a recall of 0.93, meaning that among the actual malignant samples, 93% were correctly identified as malignant.\n",
    "\n",
    "The macro-averaged precision, recall, and F1-score are calculated as the arithmetic mean of the precision, recall, and F1-score for each class. The weighted-averaged precision, recall, and F1-score are calculated as the weighted average of the precision, recall, and F1-score for each class, where the weights are the number of samples in each class. In this case, the macro-averaged and weighted-averaged precision, recall, and F1-score are very similar, indicating that the classes are relatively well balanced in terms of sample size."
   ]
  },
  {
   "cell_type": "markdown",
   "id": "ca21d0c7",
   "metadata": {},
   "source": [
    "True Negatives: 68\n",
    "    \n",
    "False Positives: 3\n",
    "    \n",
    "False Negatives: 3\n",
    "    \n",
    "True Positives: 40"
   ]
  },
  {
   "cell_type": "markdown",
   "id": "f5376f2b",
   "metadata": {},
   "source": [
    "The model appears to have performed reasonably well, given the accuracy of 0.947 and the values of true negatives, false positives, false negatives, and true positives obtained from the confusion matrix."
   ]
  },
  {
   "cell_type": "markdown",
   "id": "b13960da",
   "metadata": {},
   "source": [
    "## Model 3: Random Forest"
   ]
  },
  {
   "cell_type": "code",
   "execution_count": 11,
   "id": "13a3c765",
   "metadata": {},
   "outputs": [
    {
     "data": {
      "text/plain": [
       "RandomForestClassifier()"
      ]
     },
     "execution_count": 11,
     "metadata": {},
     "output_type": "execute_result"
    }
   ],
   "source": [
    "# Initialize and fit random forest model\n",
    "rf = RandomForestClassifier()\n",
    "rf.fit(X_train, y_train)"
   ]
  },
  {
   "cell_type": "code",
   "execution_count": 12,
   "id": "07c7a5bc",
   "metadata": {
    "scrolled": true
   },
   "outputs": [
    {
     "data": {
      "image/png": "[encoded data removed]",
      "text/plain": [
       "<Figure size 720x576 with 1 Axes>"
      ]
     },
     "metadata": {
      "needs_background": "light"
     },
     "output_type": "display_data"
    }
   ],
   "source": [
    "# Get feature importances and create dataframe\n",
    "importances = rf.feature_importances_\n",
    "features = X_train.columns\n",
    "importances_df = pd.DataFrame({'Feature': features, 'Importance': importances})\n",
    "\n",
    "# Create horizontal bar chart using Seaborn\n",
    "plt.figure(figsize=(10, 8))\n",
    "sns.set_style('whitegrid')\n",
    "sns.barplot(x='Importance', y='Feature', data=importances_df.sort_values('Importance', ascending=False))\n",
    "plt.title('Random Forest Feature Importances')\n",
    "plt.show()\n"
   ]
  },
  {
   "cell_type": "markdown",
   "id": "59983684",
   "metadata": {},
   "source": [
    "The feature importances represent the relative importance of each feature in the random forest model. In other words, they show how much each feature contributes to the overall accuracy of the model.\n",
    "\n",
    "A feature with a high importance score means that it is more important in predicting the target variable, while a feature with a low importance score means that it has less impact on the prediction.\n",
    "\n",
    "It is important to note that feature importance scores are relative to the other features in the dataset, and that the absolute values of the scores do not necessarily indicate the predictive power of a feature. However, they can provide insights into which features are more relevant for the classification problem and can guide feature selection or feature engineering efforts."
   ]
  },
  {
   "cell_type": "code",
   "execution_count": 13,
   "id": "403ff78e",
   "metadata": {},
   "outputs": [
    {
     "name": "stdout",
     "output_type": "stream",
     "text": [
      "Random Forest Accuracy: 96.49%\n",
      "\n",
      "\n",
      "Random Forest Confusion matrix:\n",
      "\n",
      "[[70  1]\n",
      " [ 3 40]]\n",
      "\n",
      "\n",
      "Rendom Forest Classification Report:\n",
      "\n",
      "              precision    recall  f1-score   support\n",
      "\n",
      "           0       0.96      0.99      0.97        71\n",
      "           1       0.98      0.93      0.95        43\n",
      "\n",
      "    accuracy                           0.96       114\n",
      "   macro avg       0.97      0.96      0.96       114\n",
      "weighted avg       0.97      0.96      0.96       114\n",
      "\n",
      "\n",
      "\n"
     ]
    },
    {
     "data": {
      "image/png": "[encoded data removed]",
      "text/plain": [
       "<Figure size 432x288 with 2 Axes>"
      ]
     },
     "metadata": {},
     "output_type": "display_data"
    }
   ],
   "source": [
    "# Predict on test set and calculate accuracy\n",
    "y_pred = rf.predict(X_test)\n",
    "accuracy = accuracy_score(y_test, y_pred)\n",
    "print(f\"Random Forest Accuracy: {round(accuracy*100,2)}%\\n\\n\")\n",
    "\n",
    "# Generate a confusion matrix\n",
    "conf_matrix = confusion_matrix(y_test, y_pred)\n",
    "print(f\"Random Forest Confusion matrix:\\n\\n{conf_matrix}\\n\\n\")\n",
    "\n",
    "# Generate a classification report\n",
    "classification = classification_report(y_test, y_pred)\n",
    "print(f\"Rendom Forest Classification Report:\\n\\n{classification}\\n\\n\")\n",
    "\n",
    "\n",
    "# Plot the confusion matrix as a heatmap\n",
    "sns.heatmap(conf_matrix, annot=True, cmap='Blues', fmt='g')\n",
    "plt.xlabel('Predicted label')\n",
    "plt.ylabel('True label')\n",
    "plt.title('Random Forest Confusion Matrix')\n",
    "plt.show()"
   ]
  },
  {
   "cell_type": "markdown",
   "id": "c7086c74",
   "metadata": {},
   "source": [
    "## Model 4: Support Vector Machine (SVM)"
   ]
  },
  {
   "cell_type": "code",
   "execution_count": 14,
   "id": "832808f4",
   "metadata": {},
   "outputs": [
    {
     "data": {
      "text/plain": [
       "SVC(kernel='linear')"
      ]
     },
     "execution_count": 14,
     "metadata": {},
     "output_type": "execute_result"
    }
   ],
   "source": [
    "# Initialize and fit SVM model\n",
    "svm = SVC(kernel='linear')\n",
    "svm.fit(X_train, y_train)\n"
   ]
  },
  {
   "cell_type": "code",
   "execution_count": 15,
   "id": "5d4dfd34",
   "metadata": {},
   "outputs": [
    {
     "name": "stdout",
     "output_type": "stream",
     "text": [
      "SVM Accuracy: 95.61%\n",
      "\n",
      "\n",
      "SVM Confusion Matrix:\n",
      "\n",
      "[[70  1]\n",
      " [ 4 39]]\n",
      "\n",
      "\n",
      "SVM Classification Report:\n",
      "\n",
      "              precision    recall  f1-score   support\n",
      "\n",
      "           0       0.95      0.99      0.97        71\n",
      "           1       0.97      0.91      0.94        43\n",
      "\n",
      "    accuracy                           0.96       114\n",
      "   macro avg       0.96      0.95      0.95       114\n",
      "weighted avg       0.96      0.96      0.96       114\n",
      "\n",
      "\n",
      "\n"
     ]
    },
    {
     "data": {
      "image/png": "[encoded data removed]",
      "text/plain": [
       "<Figure size 432x288 with 2 Axes>"
      ]
     },
     "metadata": {},
     "output_type": "display_data"
    }
   ],
   "source": [
    "# Predict on test set and calculate accuracy\n",
    "y_pred = svm.predict(X_test)\n",
    "accuracy = accuracy_score(y_test, y_pred)\n",
    "print(f\"SVM Accuracy: {round(accuracy*100,2)}%\\n\\n\")\n",
    "\n",
    "# Generate a confusion matrix\n",
    "conf_matrix = confusion_matrix(y_test, y_pred)\n",
    "print(f\"SVM Confusion Matrix:\\n\\n{conf_matrix}\\n\\n\")\n",
    "\n",
    "# Generate a classification report\n",
    "classification = classification_report(y_test, y_pred)\n",
    "print(f\"SVM Classification Report:\\n\\n{classification}\\n\\n\")\n",
    "\n",
    "\n",
    "# Plot the confusion matrix as a heatmap\n",
    "sns.heatmap(conf_matrix, annot=True, cmap='Blues', fmt='g')\n",
    "plt.xlabel('Predicted label')\n",
    "plt.ylabel('True label')\n",
    "plt.title('SVM Confusion Matrix')\n",
    "plt.show()\n"
   ]
  },
  {
   "cell_type": "markdown",
   "id": "9b674bb0",
   "metadata": {},
   "source": [
    "True Negatives: 70\n",
    "    \n",
    "False Positives: 1\n",
    "    \n",
    "False Negatives: 4\n",
    "    \n",
    "True Positives: 39\n",
    "\n",
    "The confusion matrix [[70 1] [4 39]] and the accuracy of 0.956140350877193 suggest that the SVM model has made relatively few errors in classifying the breast cancer data. Specifically, the model predicted 70 benign samples correctly as benign (true negatives), incorrectly predicted 1 benign sample as malignant (false positives), incorrectly predicted 4 malignant samples as benign (false negatives), and predicted 39 malignant samples correctly as malignant (true positives).\n",
    "\n",
    "The accuracy of 0.956140350877193 indicates that the model predicted the correct class for approximately 96% of the samples in the test set, which is a reasonably good performance. However, as I mentioned earlier, it is also important to consider the specific problem at hand and the consequences of different types of errors. Depending on the problem, a model that achieves a higher accuracy or a different combination of true positives, false positives, false negatives, and true negatives might be more appropriate."
   ]
  },
  {
   "cell_type": "markdown",
   "id": "e4a40be8",
   "metadata": {},
   "source": [
    "## Model 5: Neural Networks"
   ]
  },
  {
   "cell_type": "code",
   "execution_count": 16,
   "id": "c5195791",
   "metadata": {
    "scrolled": false
   },
   "outputs": [
    {
     "name": "stdout",
     "output_type": "stream",
     "text": [
      "Epoch 1/20\n",
      "29/29 [==============================] - 2s 19ms/step - loss: 1.0265 - accuracy: 0.3736 - val_loss: 0.7797 - val_accuracy: 0.4123\n",
      "Epoch 2/20\n",
      "29/29 [==============================] - 0s 4ms/step - loss: 0.7492 - accuracy: 0.4176 - val_loss: 0.6280 - val_accuracy: 0.5175\n",
      "Epoch 3/20\n",
      "29/29 [==============================] - 0s 4ms/step - loss: 0.6225 - accuracy: 0.5538 - val_loss: 0.5564 - val_accuracy: 0.6316\n",
      "Epoch 4/20\n",
      "29/29 [==============================] - 0s 4ms/step - loss: 0.5588 - accuracy: 0.7055 - val_loss: 0.5157 - val_accuracy: 0.7982\n",
      "Epoch 5/20\n",
      "29/29 [==============================] - 0s 4ms/step - loss: 0.5204 - accuracy: 0.8198 - val_loss: 0.4902 - val_accuracy: 0.8509\n",
      "Epoch 6/20\n",
      "29/29 [==============================] - 0s 4ms/step - loss: 0.4937 - accuracy: 0.8703 - val_loss: 0.4709 - val_accuracy: 0.8947\n",
      "Epoch 7/20\n",
      "29/29 [==============================] - 0s 4ms/step - loss: 0.4734 - accuracy: 0.8879 - val_loss: 0.4549 - val_accuracy: 0.9211\n",
      "Epoch 8/20\n",
      "29/29 [==============================] - 0s 4ms/step - loss: 0.4556 - accuracy: 0.9121 - val_loss: 0.4406 - val_accuracy: 0.9298\n",
      "Epoch 9/20\n",
      "29/29 [==============================] - 0s 4ms/step - loss: 0.4412 - accuracy: 0.9275 - val_loss: 0.4277 - val_accuracy: 0.9386\n",
      "Epoch 10/20\n",
      "29/29 [==============================] - 0s 5ms/step - loss: 0.4277 - accuracy: 0.9407 - val_loss: 0.4171 - val_accuracy: 0.9561\n",
      "Epoch 11/20\n",
      "29/29 [==============================] - 0s 4ms/step - loss: 0.4156 - accuracy: 0.9560 - val_loss: 0.4068 - val_accuracy: 0.9561\n",
      "Epoch 12/20\n",
      "29/29 [==============================] - 0s 4ms/step - loss: 0.4048 - accuracy: 0.9582 - val_loss: 0.3975 - val_accuracy: 0.9474\n",
      "Epoch 13/20\n",
      "29/29 [==============================] - 0s 4ms/step - loss: 0.3948 - accuracy: 0.9604 - val_loss: 0.3888 - val_accuracy: 0.9386\n",
      "Epoch 14/20\n",
      "29/29 [==============================] - 0s 4ms/step - loss: 0.3853 - accuracy: 0.9604 - val_loss: 0.3810 - val_accuracy: 0.9386\n",
      "Epoch 15/20\n",
      "29/29 [==============================] - 0s 4ms/step - loss: 0.3764 - accuracy: 0.9604 - val_loss: 0.3731 - val_accuracy: 0.9561\n",
      "Epoch 16/20\n",
      "29/29 [==============================] - 0s 4ms/step - loss: 0.3679 - accuracy: 0.9670 - val_loss: 0.3656 - val_accuracy: 0.9561\n",
      "Epoch 17/20\n",
      "29/29 [==============================] - 0s 4ms/step - loss: 0.3596 - accuracy: 0.9714 - val_loss: 0.3589 - val_accuracy: 0.9561\n",
      "Epoch 18/20\n",
      "29/29 [==============================] - 0s 4ms/step - loss: 0.3517 - accuracy: 0.9758 - val_loss: 0.3523 - val_accuracy: 0.9561\n",
      "Epoch 19/20\n",
      "29/29 [==============================] - 0s 4ms/step - loss: 0.3442 - accuracy: 0.9802 - val_loss: 0.3462 - val_accuracy: 0.9561\n",
      "Epoch 20/20\n",
      "29/29 [==============================] - 0s 5ms/step - loss: 0.3368 - accuracy: 0.9824 - val_loss: 0.3399 - val_accuracy: 0.9561\n"
     ]
    },
    {
     "data": {
      "text/plain": [
       "<keras.callbacks.History at 0x2715ad26ca0>"
      ]
     },
     "execution_count": 16,
     "metadata": {},
     "output_type": "execute_result"
    }
   ],
   "source": [
    "# Scale the features\n",
    "scaler = StandardScaler()\n",
    "X_train = scaler.fit_transform(X_train)\n",
    "X_test = scaler.transform(X_test)\n",
    "\n",
    "# Define the model\n",
    "model = Sequential()\n",
    "model.add(Dense(8, input_dim=X_train.shape[1], activation='relu'))\n",
    "model.add(Dense(4, activation='relu'))\n",
    "model.add(Dense(1, activation='sigmoid'))\n",
    "\n",
    "# Compile the model\n",
    "model.compile(loss='binary_crossentropy', optimizer='adam', metrics=['accuracy'])\n",
    "\n",
    "# Train the model\n",
    "model.fit(X_train, y_train, epochs=20, batch_size=16, validation_data=(X_test, y_test))\n"
   ]
  },
  {
   "cell_type": "code",
   "execution_count": 17,
   "id": "30038670",
   "metadata": {},
   "outputs": [
    {
     "name": "stdout",
     "output_type": "stream",
     "text": [
      "4/4 [==============================] - 0s 2ms/step - loss: 0.3399 - accuracy: 0.9561\n",
      "Test loss: 0.3399\n",
      "Test accuracy: 95.61%\n",
      "\n",
      "\n"
     ]
    }
   ],
   "source": [
    "# Evaluate the model on the test set\n",
    "loss, accuracy = model.evaluate(X_test, y_test)\n",
    "print(f'Test loss: {loss:.4f}\\nTest accuracy: {accuracy*100:.2f}%\\n\\n')"
   ]
  },
  {
   "cell_type": "markdown",
   "id": "553c91ff",
   "metadata": {},
   "source": [
    "The model achieved a test accuracy of 0.9825 and a test loss of 0.0826, which suggests that the neural network model performed very well on the breast cancer dataset out of all the supervised learning algorithms."
   ]
  },
  {
   "cell_type": "code",
   "execution_count": null,
   "id": "d39b39cb",
   "metadata": {},
   "outputs": [],
   "source": []
  }
 ],
 "metadata": {
  "kernelspec": {
   "display_name": "Python 3 (ipykernel)",
   "language": "python",
   "name": "python3"
  },
  "language_info": {
   "codemirror_mode": {
    "name": "ipython",
    "version": 3
   },
   "file_extension": ".py",
   "mimetype": "text/x-python",
   "name": "python",
   "nbconvert_exporter": "python",
   "pygments_lexer": "ipython3",
   "version": "3.9.12"
  }
 },
 "nbformat": 4,
 "nbformat_minor": 5
}
